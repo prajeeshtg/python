{
 "cells": [
  {
   "cell_type": "code",
   "execution_count": 1,
   "metadata": {},
   "outputs": [
    {
     "name": "stdout",
     "output_type": "stream",
     "text": [
      "hello\n"
     ]
    }
   ],
   "source": [
    "print (\"hello\")"
   ]
  },
  {
   "cell_type": "code",
   "execution_count": 2,
   "metadata": {},
   "outputs": [
    {
     "data": {
      "text/plain": [
       "5"
      ]
     },
     "execution_count": 2,
     "metadata": {},
     "output_type": "execute_result"
    }
   ],
   "source": [
    "2+3"
   ]
  },
  {
   "cell_type": "code",
   "execution_count": 4,
   "metadata": {},
   "outputs": [
    {
     "name": "stdout",
     "output_type": "stream",
     "text": [
      "x is 1.\n"
     ]
    }
   ],
   "source": [
    "x=1\n",
    "if x==1:\n",
    "    #indented four spaces\n",
    "    print(\"x is 1.\")"
   ]
  },
  {
   "cell_type": "code",
   "execution_count": 5,
   "metadata": {},
   "outputs": [
    {
     "data": {
      "text/plain": [
       "1.7"
      ]
     },
     "execution_count": 5,
     "metadata": {},
     "output_type": "execute_result"
    }
   ],
   "source": [
    "height = 1.7\n",
    "weight =70\n",
    "height"
   ]
  },
  {
   "cell_type": "code",
   "execution_count": 6,
   "metadata": {},
   "outputs": [
    {
     "data": {
      "text/plain": [
       "70"
      ]
     },
     "execution_count": 6,
     "metadata": {},
     "output_type": "execute_result"
    }
   ],
   "source": [
    "weight"
   ]
  },
  {
   "cell_type": "code",
   "execution_count": 10,
   "metadata": {},
   "outputs": [
    {
     "data": {
      "text/plain": [
       "24.221453287197235"
      ]
     },
     "execution_count": 10,
     "metadata": {},
     "output_type": "execute_result"
    }
   ],
   "source": [
    "weight / height ** 2"
   ]
  },
  {
   "cell_type": "code",
   "execution_count": 11,
   "metadata": {},
   "outputs": [],
   "source": [
    "bmi = weight / height ** 2"
   ]
  },
  {
   "cell_type": "code",
   "execution_count": 12,
   "metadata": {},
   "outputs": [
    {
     "data": {
      "text/plain": [
       "24.221453287197235"
      ]
     },
     "execution_count": 12,
     "metadata": {},
     "output_type": "execute_result"
    }
   ],
   "source": [
    "bmi"
   ]
  },
  {
   "cell_type": "code",
   "execution_count": 13,
   "metadata": {},
   "outputs": [
    {
     "data": {
      "text/plain": [
       "float"
      ]
     },
     "execution_count": 13,
     "metadata": {},
     "output_type": "execute_result"
    }
   ],
   "source": [
    "type (bmi)"
   ]
  },
  {
   "cell_type": "code",
   "execution_count": 14,
   "metadata": {},
   "outputs": [
    {
     "data": {
      "text/plain": [
       "int"
      ]
     },
     "execution_count": 14,
     "metadata": {},
     "output_type": "execute_result"
    }
   ],
   "source": [
    "type ( weight)"
   ]
  },
  {
   "cell_type": "code",
   "execution_count": 15,
   "metadata": {},
   "outputs": [],
   "source": [
    "a = \"name\""
   ]
  },
  {
   "cell_type": "code",
   "execution_count": 16,
   "metadata": {},
   "outputs": [
    {
     "data": {
      "text/plain": [
       "str"
      ]
     },
     "execution_count": 16,
     "metadata": {},
     "output_type": "execute_result"
    }
   ],
   "source": [
    "type (a)"
   ]
  },
  {
   "cell_type": "code",
   "execution_count": 17,
   "metadata": {},
   "outputs": [
    {
     "name": "stdout",
     "output_type": "stream",
     "text": [
      "10\n"
     ]
    }
   ],
   "source": [
    "print (5+5)"
   ]
  },
  {
   "cell_type": "code",
   "execution_count": 18,
   "metadata": {},
   "outputs": [
    {
     "name": "stdout",
     "output_type": "stream",
     "text": [
      "36\n"
     ]
    }
   ],
   "source": [
    "print ( 6*6)"
   ]
  },
  {
   "cell_type": "code",
   "execution_count": 19,
   "metadata": {},
   "outputs": [
    {
     "name": "stdout",
     "output_type": "stream",
     "text": [
      "5.0\n"
     ]
    }
   ],
   "source": [
    "print (2.5/.5)"
   ]
  },
  {
   "cell_type": "code",
   "execution_count": 22,
   "metadata": {},
   "outputs": [],
   "source": [
    "x = True"
   ]
  },
  {
   "cell_type": "code",
   "execution_count": 23,
   "metadata": {},
   "outputs": [
    {
     "data": {
      "text/plain": [
       "bool"
      ]
     },
     "execution_count": 23,
     "metadata": {},
     "output_type": "execute_result"
    }
   ],
   "source": [
    "type (x)"
   ]
  },
  {
   "cell_type": "code",
   "execution_count": 24,
   "metadata": {},
   "outputs": [
    {
     "data": {
      "text/plain": [
       "4"
      ]
     },
     "execution_count": 24,
     "metadata": {},
     "output_type": "execute_result"
    }
   ],
   "source": [
    "True + 3"
   ]
  },
  {
   "cell_type": "code",
   "execution_count": 25,
   "metadata": {},
   "outputs": [
    {
     "data": {
      "text/plain": [
       "4"
      ]
     },
     "execution_count": 25,
     "metadata": {},
     "output_type": "execute_result"
    }
   ],
   "source": [
    "False + 4"
   ]
  },
  {
   "cell_type": "code",
   "execution_count": 26,
   "metadata": {},
   "outputs": [
    {
     "data": {
      "text/plain": [
       "'abcd'"
      ]
     },
     "execution_count": 26,
     "metadata": {},
     "output_type": "execute_result"
    }
   ],
   "source": [
    "'ab'+'cd'"
   ]
  },
  {
   "cell_type": "code",
   "execution_count": 28,
   "metadata": {},
   "outputs": [
    {
     "name": "stdout",
     "output_type": "stream",
     "text": [
      "I started with $100 and now have $225.0.Awesome!\n"
     ]
    }
   ],
   "source": [
    "saving = 100\n",
    "result = 100*1.5**2\n",
    "print (\"I started with $\" + str(saving) + \" and now have $\" + str(result) +\".Awesome!\" )"
   ]
  },
  {
   "cell_type": "code",
   "execution_count": 34,
   "metadata": {},
   "outputs": [
    {
     "name": "stdout",
     "output_type": "stream",
     "text": [
      "initial value $1 now the value is$500.0\n"
     ]
    }
   ],
   "source": [
    "intre = 1\n",
    "y = 1000/2 \n",
    "print (\"initial value $\" + str(intre) +\" now the value is$\" +str(y) )"
   ]
  },
  {
   "cell_type": "code",
   "execution_count": 37,
   "metadata": {},
   "outputs": [
    {
     "name": "stdout",
     "output_type": "stream",
     "text": [
      "x and y refer to the same object\n"
     ]
    }
   ],
   "source": [
    "x=19\n",
    "y =x\n",
    "if (id(x)==id(y)):\n",
    "    print (\"x and y refer to the same object\")"
   ]
  },
  {
   "cell_type": "code",
   "execution_count": 38,
   "metadata": {},
   "outputs": [
    {
     "name": "stdout",
     "output_type": "stream",
     "text": [
      "y and z point to the different memory\n"
     ]
    }
   ],
   "source": [
    "z = 100\n",
    "if (id(y)==id(z)):\n",
    "    print (\"y and z point to the same memory\")\n",
    "else:\n",
    "    print (\"y and z point to the different memory\")\n"
   ]
  },
  {
   "cell_type": "code",
   "execution_count": 40,
   "metadata": {},
   "outputs": [
    {
     "name": "stdout",
     "output_type": "stream",
     "text": [
      "11\n"
     ]
    }
   ],
   "source": [
    "def f1(x):\n",
    "    x=x*2\n",
    "    y=f2(x)\n",
    "    return y\n",
    "def f2(x):\n",
    "    x=x+1\n",
    "    return x\n",
    "\n",
    "#main \n",
    "y=5\n",
    "z=f1(y)\n",
    "print (z)"
   ]
  },
  {
   "cell_type": "code",
   "execution_count": 41,
   "metadata": {},
   "outputs": [
    {
     "data": {
      "text/plain": [
       "[1.73, 2.34, 3.4, 1.5]"
      ]
     },
     "execution_count": 41,
     "metadata": {},
     "output_type": "execute_result"
    }
   ],
   "source": [
    "fam = [1.73,2.34,3.4,1.5]\n",
    "fam"
   ]
  },
  {
   "cell_type": "code",
   "execution_count": 43,
   "metadata": {},
   "outputs": [
    {
     "data": {
      "text/plain": [
       "['my', 'list', 'is', 'nice']"
      ]
     },
     "execution_count": 43,
     "metadata": {},
     "output_type": "execute_result"
    }
   ],
   "source": [
    "a= \"is\"\n",
    "b = \"nice\"\n",
    "my_list =[\"my\", \"list\", a,b]\n",
    "my_list"
   ]
  },
  {
   "cell_type": "code",
   "execution_count": 45,
   "metadata": {},
   "outputs": [
    {
     "name": "stdout",
     "output_type": "stream",
     "text": [
      "[11.25, 18.0, 20.0, 10.75, 9.5]\n"
     ]
    }
   ],
   "source": [
    "hall=11.25\n",
    "kit =18.0\n",
    "liv =20.0\n",
    "bed =10.75\n",
    "bath =9.50\n",
    "\n",
    "areas= [hall,kit,liv,bed,bath]\n",
    "\n",
    "print(areas)"
   ]
  },
  {
   "cell_type": "code",
   "execution_count": 46,
   "metadata": {},
   "outputs": [],
   "source": [
    "areas=[\"hallway\",hall,\"kitchen\",kit,\"living room\",liv,\"bedroom\",bed,\"bathroom\",bath]"
   ]
  },
  {
   "cell_type": "code",
   "execution_count": 47,
   "metadata": {},
   "outputs": [
    {
     "name": "stdout",
     "output_type": "stream",
     "text": [
      "['hallway', 11.25, 'kitchen', 18.0, 'living room', 20.0, 'bedroom', 10.75, 'bathroom', 9.5]\n"
     ]
    }
   ],
   "source": [
    "print(areas)"
   ]
  },
  {
   "cell_type": "code",
   "execution_count": 49,
   "metadata": {},
   "outputs": [
    {
     "data": {
      "text/plain": [
       "['liza', 1.73, 'emma', 1.68, 'mom', 1.71, 'dad', 1.89]"
      ]
     },
     "execution_count": 49,
     "metadata": {},
     "output_type": "execute_result"
    }
   ],
   "source": [
    "fam=[\"liza\",1.73,\"emma\",1.68,\"mom\",1.71,\"dad\",1.89]\n",
    "fam"
   ]
  },
  {
   "cell_type": "code",
   "execution_count": 52,
   "metadata": {},
   "outputs": [
    {
     "data": {
      "text/plain": [
       "[['liza', 1.73], ['emma', 1.68], ['mom', 1.71], ['dad', 1.89]]"
      ]
     },
     "execution_count": 52,
     "metadata": {},
     "output_type": "execute_result"
    }
   ],
   "source": [
    "fam2 = [[\"liza\",1.73],\n",
    "        [\"emma\",1.68],\n",
    "        [\"mom\",1.71],\n",
    "        [\"dad\",1.89]]\n",
    "\n",
    "fam2"
   ]
  },
  {
   "cell_type": "code",
   "execution_count": 53,
   "metadata": {},
   "outputs": [
    {
     "data": {
      "text/plain": [
       "list"
      ]
     },
     "execution_count": 53,
     "metadata": {},
     "output_type": "execute_result"
    }
   ],
   "source": [
    "type (fam2)"
   ]
  },
  {
   "cell_type": "code",
   "execution_count": 54,
   "metadata": {},
   "outputs": [
    {
     "data": {
      "text/plain": [
       "['dad', 1.89]"
      ]
     },
     "execution_count": 54,
     "metadata": {},
     "output_type": "execute_result"
    }
   ],
   "source": [
    "fam2[-1]"
   ]
  },
  {
   "cell_type": "code",
   "execution_count": 55,
   "metadata": {},
   "outputs": [
    {
     "data": {
      "text/plain": [
       "1.89"
      ]
     },
     "execution_count": 55,
     "metadata": {},
     "output_type": "execute_result"
    }
   ],
   "source": [
    "fam [-1]"
   ]
  },
  {
   "cell_type": "code",
   "execution_count": 56,
   "metadata": {},
   "outputs": [
    {
     "data": {
      "text/plain": [
       "['liza', 1.73, 'emma', 1.68]"
      ]
     },
     "execution_count": 56,
     "metadata": {},
     "output_type": "execute_result"
    }
   ],
   "source": [
    "fam[:4]"
   ]
  },
  {
   "cell_type": "code",
   "execution_count": 57,
   "metadata": {},
   "outputs": [
    {
     "data": {
      "text/plain": [
       "[1.68, 'mom', 1.71, 'dad', 1.89]"
      ]
     },
     "execution_count": 57,
     "metadata": {},
     "output_type": "execute_result"
    }
   ],
   "source": [
    "fam[3:]"
   ]
  },
  {
   "cell_type": "code",
   "execution_count": 58,
   "metadata": {},
   "outputs": [
    {
     "name": "stdout",
     "output_type": "stream",
     "text": [
      "11.25\n"
     ]
    }
   ],
   "source": [
    "print (areas[1])"
   ]
  },
  {
   "cell_type": "code",
   "execution_count": 59,
   "metadata": {},
   "outputs": [
    {
     "name": "stdout",
     "output_type": "stream",
     "text": [
      "[11.25, 'kitchen', 18.0, 'living room', 20.0, 'bedroom', 10.75, 'bathroom', 9.5]\n"
     ]
    }
   ],
   "source": [
    "print (areas[1:])"
   ]
  },
  {
   "cell_type": "code",
   "execution_count": 60,
   "metadata": {},
   "outputs": [
    {
     "name": "stdout",
     "output_type": "stream",
     "text": [
      "[['mom', 1.71], ['dad', 1.89]]\n"
     ]
    }
   ],
   "source": [
    "print (fam2[2:])"
   ]
  },
  {
   "cell_type": "code",
   "execution_count": 61,
   "metadata": {},
   "outputs": [
    {
     "name": "stdout",
     "output_type": "stream",
     "text": [
      "[1.73, 'emma']\n"
     ]
    }
   ],
   "source": [
    "print (fam[1:3])"
   ]
  },
  {
   "cell_type": "code",
   "execution_count": 63,
   "metadata": {},
   "outputs": [
    {
     "name": "stdout",
     "output_type": "stream",
     "text": [
      "eat_sleep_area= 28.75\n",
      "downstairs = ['hallway', 11.25, 'kitchen', 18.0, 'living room', 20.0]\n",
      "upstairs = ['bedroom', 10.75, 'bathroom', 9.5]\n"
     ]
    }
   ],
   "source": [
    "eat_sleep_area = areas[3]+areas[7]\n",
    "print (\"eat_sleep_area=\", eat_sleep_area)\n",
    "downstairs = areas[:6]\n",
    "upstairs = areas[6:]\n",
    "\n",
    "print (\"downstairs =\",downstairs)\n",
    "print (\"upstairs =\",upstairs)"
   ]
  },
  {
   "cell_type": "code",
   "execution_count": 64,
   "metadata": {},
   "outputs": [],
   "source": [
    "fam[7] = 1.86"
   ]
  },
  {
   "cell_type": "code",
   "execution_count": 65,
   "metadata": {},
   "outputs": [],
   "source": [
    "fam[0:2]= [\"Lisa\",1.74]"
   ]
  },
  {
   "cell_type": "code",
   "execution_count": 66,
   "metadata": {},
   "outputs": [
    {
     "data": {
      "text/plain": [
       "['Lisa', 1.74, 'emma', 1.68, 'mom', 1.71, 'dad', 1.86]"
      ]
     },
     "execution_count": 66,
     "metadata": {},
     "output_type": "execute_result"
    }
   ],
   "source": [
    "fam"
   ]
  },
  {
   "cell_type": "code",
   "execution_count": 67,
   "metadata": {},
   "outputs": [],
   "source": [
    "fam_ext = fam + [\"me\",1.79]"
   ]
  },
  {
   "cell_type": "code",
   "execution_count": 68,
   "metadata": {},
   "outputs": [
    {
     "data": {
      "text/plain": [
       "['Lisa', 1.74, 'emma', 1.68, 'mom', 1.71, 'dad', 1.86, 'me', 1.79]"
      ]
     },
     "execution_count": 68,
     "metadata": {},
     "output_type": "execute_result"
    }
   ],
   "source": [
    "fam_ext"
   ]
  },
  {
   "cell_type": "code",
   "execution_count": 73,
   "metadata": {},
   "outputs": [],
   "source": [
    "del(fam_ext[8])"
   ]
  },
  {
   "cell_type": "code",
   "execution_count": 74,
   "metadata": {},
   "outputs": [
    {
     "data": {
      "text/plain": [
       "['Lisa', 1.74, 'emma', 1.68, 'mom', 1.71, 'dad', 1.86]"
      ]
     },
     "execution_count": 74,
     "metadata": {},
     "output_type": "execute_result"
    }
   ],
   "source": [
    "fam_ext"
   ]
  },
  {
   "cell_type": "code",
   "execution_count": 75,
   "metadata": {},
   "outputs": [],
   "source": [
    "fam_ext =fam+[\"me\",1.79]"
   ]
  },
  {
   "cell_type": "code",
   "execution_count": 76,
   "metadata": {},
   "outputs": [
    {
     "data": {
      "text/plain": [
       "['Lisa', 1.74, 'emma', 1.68, 'mom', 1.71, 'dad', 1.86, 'me', 1.79]"
      ]
     },
     "execution_count": 76,
     "metadata": {},
     "output_type": "execute_result"
    }
   ],
   "source": [
    "fam_ext"
   ]
  },
  {
   "cell_type": "code",
   "execution_count": 80,
   "metadata": {},
   "outputs": [
    {
     "data": {
      "text/plain": [
       "['a', 'z', 'c']"
      ]
     },
     "execution_count": 80,
     "metadata": {},
     "output_type": "execute_result"
    }
   ],
   "source": [
    "x=[\"a\",\"b\",\"c\"]\n",
    "y=x\n",
    "y[1]=\"z\"\n",
    "\n",
    "x"
   ]
  },
  {
   "cell_type": "code",
   "execution_count": 88,
   "metadata": {},
   "outputs": [
    {
     "data": {
      "text/plain": [
       "['a', 'b', 'c']"
      ]
     },
     "execution_count": 88,
     "metadata": {},
     "output_type": "execute_result"
    }
   ],
   "source": [
    "x=[\"a\",\"b\",\"c\"]\n",
    "y = list(x)\n",
    "y=x[:]\n",
    "y[1]=\"z\"\n",
    "x"
   ]
  },
  {
   "cell_type": "code",
   "execution_count": 91,
   "metadata": {},
   "outputs": [
    {
     "name": "stdout",
     "output_type": "stream",
     "text": [
      "[11.25, 18.0, 20.0, 10.75, 9.5]\n",
      "[5.0, 18.0, 20.0, 10.75, 9.5]\n"
     ]
    }
   ],
   "source": [
    "areas1 =[11.25, 18.0,20.0,10.75,9.505]\n",
    "areas_copy1= list(areas1)\n",
    "areas_copy1[0]=5.0\n",
    "print (areas1)\n",
    "print (areas_copy1)"
   ]
  },
  {
   "cell_type": "code",
   "execution_count": 116,
   "metadata": {},
   "outputs": [],
   "source": [
    "fam.append ([\"me\",1.79])"
   ]
  },
  {
   "cell_type": "code",
   "execution_count": 102,
   "metadata": {},
   "outputs": [
    {
     "name": "stdout",
     "output_type": "stream",
     "text": [
      "None\n"
     ]
    }
   ],
   "source": [
    "print (fam_ext)"
   ]
  },
  {
   "cell_type": "code",
   "execution_count": 125,
   "metadata": {},
   "outputs": [
    {
     "data": {
      "text/plain": [
       "[11.25, 18.0, 20.0, 10.75, 9.5]"
      ]
     },
     "execution_count": 125,
     "metadata": {},
     "output_type": "execute_result"
    }
   ],
   "source": [
    "areas1 =[11.25, 18.0,20.0,10.75,9.50]\n",
    "areas1"
   ]
  },
  {
   "cell_type": "code",
   "execution_count": 130,
   "metadata": {},
   "outputs": [
    {
     "data": {
      "text/plain": [
       "12"
      ]
     },
     "execution_count": 130,
     "metadata": {},
     "output_type": "execute_result"
    }
   ],
   "source": [
    "first = (11.8,12,13,14)\n",
    "round(first[0])"
   ]
  },
  {
   "cell_type": "code",
   "execution_count": 139,
   "metadata": {},
   "outputs": [
    {
     "data": {
      "text/plain": [
       "[11.8, 14, 21, 22, 23, 30, 32]"
      ]
     },
     "execution_count": 139,
     "metadata": {},
     "output_type": "execute_result"
    }
   ],
   "source": [
    "full_sorted = sorted(full,reverse=False)\n",
    "full_sorted\n"
   ]
  },
  {
   "cell_type": "code",
   "execution_count": 140,
   "metadata": {},
   "outputs": [
    {
     "data": {
      "text/plain": [
       "32"
      ]
     },
     "execution_count": 140,
     "metadata": {},
     "output_type": "execute_result"
    }
   ],
   "source": [
    "max(full_sorted)"
   ]
  },
  {
   "cell_type": "code",
   "execution_count": 141,
   "metadata": {},
   "outputs": [
    {
     "data": {
      "text/plain": [
       "7"
      ]
     },
     "execution_count": 141,
     "metadata": {},
     "output_type": "execute_result"
    }
   ],
   "source": [
    "len(full_sorted)"
   ]
  },
  {
   "cell_type": "code",
   "execution_count": 152,
   "metadata": {},
   "outputs": [
    {
     "name": "stdout",
     "output_type": "stream",
     "text": [
      "count-occurance of 1.71= 1\n",
      "index of mom= 4\n"
     ]
    }
   ],
   "source": [
    "x = fam.count(1.71)\n",
    "y = fam.index(\"mom\")\n",
    "print (\"count-occurance of 1.71=\",x)\n",
    "print (\"index of mom=\",y)"
   ]
  },
  {
   "cell_type": "code",
   "execution_count": 155,
   "metadata": {},
   "outputs": [
    {
     "data": {
      "text/plain": [
       "'Liz'"
      ]
     },
     "execution_count": 155,
     "metadata": {},
     "output_type": "execute_result"
    }
   ],
   "source": [
    "sister.capitalize()"
   ]
  },
  {
   "cell_type": "code",
   "execution_count": 157,
   "metadata": {},
   "outputs": [
    {
     "data": {
      "text/plain": [
       "'lisa'"
      ]
     },
     "execution_count": 157,
     "metadata": {},
     "output_type": "execute_result"
    }
   ],
   "source": [
    "sister.replace (\"z\",\"sa\")"
   ]
  },
  {
   "cell_type": "code",
   "execution_count": 163,
   "metadata": {},
   "outputs": [
    {
     "name": "stdout",
     "output_type": "stream",
     "text": [
      "POOLHOUSE\n",
      "poolhouse\n",
      "3\n"
     ]
    }
   ],
   "source": [
    "room = \"poolhouse\"\n",
    "roomup=room.upper()\n",
    "print (roomup)\n",
    "print (room)\n",
    "print (room.count(\"o\"))"
   ]
  },
  {
   "cell_type": "code",
   "execution_count": 181,
   "metadata": {},
   "outputs": [
    {
     "name": "stdout",
     "output_type": "stream",
     "text": [
      "[8.5, 9.5, 10.75, 20.0, 18.0, 11.25]\n"
     ]
    }
   ],
   "source": [
    "areas1.reverse()\n",
    "print (areas1)"
   ]
  },
  {
   "cell_type": "code",
   "execution_count": 182,
   "metadata": {},
   "outputs": [
    {
     "data": {
      "text/plain": [
       "array([1, 2, 3])"
      ]
     },
     "execution_count": 182,
     "metadata": {},
     "output_type": "execute_result"
    }
   ],
   "source": [
    "import numpy\n",
    "numpy.array([1,2,3])"
   ]
  },
  {
   "cell_type": "code",
   "execution_count": 183,
   "metadata": {},
   "outputs": [
    {
     "data": {
      "text/plain": [
       "array([1, 2, 3])"
      ]
     },
     "execution_count": 183,
     "metadata": {},
     "output_type": "execute_result"
    }
   ],
   "source": [
    "import numpy as np\n",
    "np.array([1,2,3])"
   ]
  },
  {
   "cell_type": "code",
   "execution_count": 5,
   "metadata": {},
   "outputs": [
    {
     "name": "stdout",
     "output_type": "stream",
     "text": [
      "curcumference:2.701769682087222\n",
      "area:0.5808804816487527\n"
     ]
    }
   ],
   "source": [
    "r= 0.43\n",
    "import math\n",
    "c=2*r*math.pi\n",
    "A= math.pi*r**2\n",
    "print (\"curcumference:\" + str(c))\n",
    "print (\"area:\" + str(A))\n"
   ]
  },
  {
   "cell_type": "code",
   "execution_count": 6,
   "metadata": {},
   "outputs": [
    {
     "data": {
      "text/plain": [
       "True"
      ]
     },
     "execution_count": 6,
     "metadata": {},
     "output_type": "execute_result"
    }
   ],
   "source": [
    "2<3"
   ]
  },
  {
   "cell_type": "code",
   "execution_count": 11,
   "metadata": {},
   "outputs": [
    {
     "data": {
      "text/plain": [
       "True"
      ]
     },
     "execution_count": 11,
     "metadata": {},
     "output_type": "execute_result"
    }
   ],
   "source": [
    "\"carl\" < \"chris\""
   ]
  },
  {
   "cell_type": "code",
   "execution_count": 20,
   "metadata": {},
   "outputs": [
    {
     "name": "stdout",
     "output_type": "stream",
     "text": [
      "False\n"
     ]
    }
   ],
   "source": [
    "x= -3*6\n",
    "print (x >= -10)"
   ]
  },
  {
   "cell_type": "code",
   "execution_count": 27,
   "metadata": {},
   "outputs": [
    {
     "name": "stdout",
     "output_type": "stream",
     "text": [
      "my_house>30 [False False  True False  True False]\n",
      "my_house < your_house [False  True False False False False]\n"
     ]
    }
   ],
   "source": [
    "import numpy as np\n",
    "\n",
    "my_house = np.array([23,24,35,12,42,9])\n",
    "your_house = np.array([4,56,34,9,32,4])\n",
    "\n",
    "print (\"my_house>30\", my_house > 30)\n",
    "print (\"my_house < your_house\",my_house < your_house)"
   ]
  },
  {
   "cell_type": "code",
   "execution_count": 29,
   "metadata": {},
   "outputs": [
    {
     "data": {
      "text/plain": [
       "False"
      ]
     },
     "execution_count": 29,
     "metadata": {},
     "output_type": "execute_result"
    }
   ],
   "source": [
    "False and False"
   ]
  },
  {
   "cell_type": "code",
   "execution_count": 31,
   "metadata": {},
   "outputs": [
    {
     "data": {
      "text/plain": [
       "False"
      ]
     },
     "execution_count": 31,
     "metadata": {},
     "output_type": "execute_result"
    }
   ],
   "source": [
    "x= 8 \n",
    "y = 9\n",
    "\n",
    "not(not(x<3) and not(y>14 or y >10))"
   ]
  },
  {
   "cell_type": "code",
   "execution_count": 32,
   "metadata": {},
   "outputs": [
    {
     "name": "stdout",
     "output_type": "stream",
     "text": [
      "looking around the kitchen\n"
     ]
    }
   ],
   "source": [
    "room = \"kit\"\n",
    "areas3= 14\n",
    "\n",
    "if room ==\"kit\" :\n",
    "    print ( \"looking around the kitchen\")\n"
   ]
  },
  {
   "cell_type": "code",
   "execution_count": 35,
   "metadata": {},
   "outputs": [
    {
     "name": "stdout",
     "output_type": "stream",
     "text": [
      "not a big place\n"
     ]
    }
   ],
   "source": [
    "areas3= 14\n",
    "\n",
    "if areas3 > 15:\n",
    "    print ( \"big place\")\n",
    "else :\n",
    "    print (\"not a big place\")"
   ]
  },
  {
   "cell_type": "code",
   "execution_count": 37,
   "metadata": {},
   "outputs": [
    {
     "name": "stdout",
     "output_type": "stream",
     "text": [
      "not a big place\n"
     ]
    }
   ],
   "source": [
    "room = \"kit\"\n",
    "areas3= 14\n",
    "\n",
    "if room ==\"kit\" :\n",
    "    print ( \"looking around the kitchen\")\n",
    "elif areas3 > 15:\n",
    "    print ( \"big place\")\n",
    "else :\n",
    "    print (\"not a big place\")\n",
    "    "
   ]
  },
  {
   "cell_type": "code",
   "execution_count": 53,
   "metadata": {},
   "outputs": [
    {
     "name": "stdout",
     "output_type": "stream",
     "text": [
      "12.5\n",
      "3.125\n",
      "0.78125\n"
     ]
    }
   ],
   "source": [
    "#while loop\n",
    "error = 50 \n",
    "\n",
    "while error > 1:\n",
    "    error = error / 4\n",
    "    print (error)"
   ]
  },
  {
   "cell_type": "code",
   "execution_count": 52,
   "metadata": {},
   "outputs": [
    {
     "name": "stdout",
     "output_type": "stream",
     "text": [
      "1\n",
      "2\n",
      "3\n"
     ]
    }
   ],
   "source": [
    "x = 1\n",
    "while x < 4 :\n",
    "        print (x) \n",
    "        x = x+1\n",
    "        "
   ]
  },
  {
   "cell_type": "code",
   "execution_count": 57,
   "metadata": {},
   "outputs": [
    {
     "name": "stdout",
     "output_type": "stream",
     "text": [
      "11\n",
      "23\n",
      "43\n",
      "53\n",
      "12\n",
      "14\n"
     ]
    }
   ],
   "source": [
    "areas = [11,23,43,53,12,14]\n",
    "for a in areas:\n",
    "    print (a)\n",
    "    "
   ]
  },
  {
   "cell_type": "code",
   "execution_count": 59,
   "metadata": {},
   "outputs": [
    {
     "name": "stdout",
     "output_type": "stream",
     "text": [
      "room 1 : 11\n",
      "room 2 : 23\n",
      "room 3 : 43\n",
      "room 4 : 53\n",
      "room 5 : 12\n",
      "room 6 : 14\n"
     ]
    }
   ],
   "source": [
    "for index, areas in enumerate (areas):\n",
    "    print (\"room\",str(index+1),\":\",str(areas))"
   ]
  },
  {
   "cell_type": "code",
   "execution_count": 68,
   "metadata": {},
   "outputs": [
    {
     "name": "stdout",
     "output_type": "stream",
     "text": [
      "the hallwayis11.25 sqm\n",
      "the Kitchenis18.0 sqm\n",
      "the living roomis20.0 sqm\n",
      "the bedroomis10.75 sqm\n",
      "the bathroomis9.5 sqm\n"
     ]
    }
   ],
   "source": [
    "house = [[\"hallway\", 11.25],\n",
    "        [\"Kitchen\",18.0],\n",
    "        [\"living room\",20.0],\n",
    "        [\"bedroom\",10.75],\n",
    "        [\"bathroom\",9.5]]\n",
    "for key ,value in house:\n",
    "    print (\"the \"+ str(key) + \"is\" + str(value) + \" sqm\")"
   ]
  },
  {
   "cell_type": "code",
   "execution_count": 78,
   "metadata": {},
   "outputs": [
    {
     "data": {
      "text/plain": [
       "7"
      ]
     },
     "execution_count": 78,
     "metadata": {},
     "output_type": "execute_result"
    }
   ],
   "source": [
    "#Dictionary\n",
    "world = {\"a\":13,\"b\":2,\"c\":7}\n",
    "world[\"c\"]"
   ]
  },
  {
   "cell_type": "code",
   "execution_count": 84,
   "metadata": {},
   "outputs": [
    {
     "data": {
      "text/plain": [
       "'madrid'"
      ]
     },
     "execution_count": 84,
     "metadata": {},
     "output_type": "execute_result"
    }
   ],
   "source": [
    "europ ={\"Spain\":\"madrid\",\n",
    "       \"France\":\"paris\",\n",
    "       \"Germany\":\"berlin\",\n",
    "       \"Norway\":\"oslo\"}\n",
    "europ[\"Spain\"]"
   ]
  },
  {
   "cell_type": "code",
   "execution_count": 86,
   "metadata": {},
   "outputs": [
    {
     "name": "stdout",
     "output_type": "stream",
     "text": [
      "dict_keys(['Spain', 'France', 'Germany', 'Norway'])\n"
     ]
    }
   ],
   "source": [
    "print (europ.keys())"
   ]
  },
  {
   "cell_type": "code",
   "execution_count": 88,
   "metadata": {},
   "outputs": [
    {
     "data": {
      "text/plain": [
       "{'a': 6.5, 'b': 7, 'c': 8}"
      ]
     },
     "execution_count": 88,
     "metadata": {},
     "output_type": "execute_result"
    }
   ],
   "source": [
    "world ={\"a\":6,\"b\":7,\"c\":8,\"a\":6.5}\n",
    "world"
   ]
  },
  {
   "cell_type": "code",
   "execution_count": 89,
   "metadata": {},
   "outputs": [
    {
     "data": {
      "text/plain": [
       "{0: 'hello', True: 'dear', 'two': 'world'}"
      ]
     },
     "execution_count": 89,
     "metadata": {},
     "output_type": "execute_result"
    }
   ],
   "source": [
    "{0:\"hello\",True:\"dear\",\"two\":\"world\"}\n"
   ]
  },
  {
   "cell_type": "code",
   "execution_count": 92,
   "metadata": {},
   "outputs": [
    {
     "name": "stdout",
     "output_type": "stream",
     "text": [
      "dict_keys([('a', 'b')])\n"
     ]
    }
   ],
   "source": [
    "v ={(\"a\",\"b\"):c}\n",
    "print (v.keys())"
   ]
  },
  {
   "cell_type": "code",
   "execution_count": 99,
   "metadata": {},
   "outputs": [],
   "source": [
    "world[\"a\"]=9\n",
    "del(world[14])"
   ]
  },
  {
   "cell_type": "code",
   "execution_count": 102,
   "metadata": {},
   "outputs": [
    {
     "data": {
      "text/plain": [
       "True"
      ]
     },
     "execution_count": 102,
     "metadata": {},
     "output_type": "execute_result"
    }
   ],
   "source": [
    "\"a\" in world"
   ]
  },
  {
   "cell_type": "code",
   "execution_count": 104,
   "metadata": {},
   "outputs": [
    {
     "data": {
      "text/plain": [
       "{'a': 10, 'b': 7, 'c': 8}"
      ]
     },
     "execution_count": 104,
     "metadata": {},
     "output_type": "execute_result"
    }
   ],
   "source": [
    "world[\"a\"]=10\n",
    "world"
   ]
  },
  {
   "cell_type": "code",
   "execution_count": 119,
   "metadata": {},
   "outputs": [
    {
     "data": {
      "text/plain": [
       "{'a': 10, 'b': 7, 'c': 8}"
      ]
     },
     "execution_count": 119,
     "metadata": {},
     "output_type": "execute_result"
    }
   ],
   "source": [
    "\n",
    "world[\"a\"]=10\n",
    "world"
   ]
  },
  {
   "cell_type": "code",
   "execution_count": 128,
   "metadata": {},
   "outputs": [
    {
     "name": "stdout",
     "output_type": "stream",
     "text": [
      "56\n"
     ]
    }
   ],
   "source": [
    "europ = {\"spain\":{\"capital\":\"madrid\",\"population\":56},\n",
    "      \"france\":{\"capital\": \"Paris\",\"population\":32},\n",
    "      \"Germany\":{\"capital\": \"Berlin\",\"population\":73},\n",
    "      \"Norway\":{\"capital\":\"Oslo\",\"population\":83}}\n",
    "print(europ[\"spain\"][\"population\"])"
   ]
  },
  {
   "cell_type": "code",
   "execution_count": 131,
   "metadata": {},
   "outputs": [
    {
     "name": "stdout",
     "output_type": "stream",
     "text": [
      "{'spain': {'capital': 'madrid', 'population': 56}, 'france': {'capital': 'Paris', 'population': 32}, 'Germany': {'capital': 'Berlin', 'population': 73}, 'Norway': {'capital': 'Oslo', 'population': 83}, 'Italy': {'capital': 'rome', 'population': 78}}\n"
     ]
    }
   ],
   "source": [
    "c= {\"capital\":\"rome\",\"population\":78}\n",
    "europ[\"Italy\"]=c\n",
    "print(europ)"
   ]
  },
  {
   "cell_type": "code",
   "execution_count": 133,
   "metadata": {},
   "outputs": [
    {
     "name": "stdout",
     "output_type": "stream",
     "text": [
      "the capital of  spain is {'capital': 'madrid', 'population': 56}\n",
      "the capital of  france is {'capital': 'Paris', 'population': 32}\n",
      "the capital of  Germany is {'capital': 'Berlin', 'population': 73}\n",
      "the capital of  Norway is {'capital': 'Oslo', 'population': 83}\n",
      "the capital of  Italy is {'capital': 'rome', 'population': 78}\n"
     ]
    }
   ],
   "source": [
    "for k,v in europ.items():\n",
    "    print(\"the capital of \",str(k), \"is\", str(v))"
   ]
  },
  {
   "cell_type": "code",
   "execution_count": 146,
   "metadata": {},
   "outputs": [
    {
     "name": "stdout",
     "output_type": "stream",
     "text": [
      "the capital of  spain is  madrid\n",
      "the capital of  spain is  56\n",
      "the capital of  france is  Paris\n",
      "the capital of  france is  32\n",
      "the capital of  Germany is  Berlin\n",
      "the capital of  Germany is  73\n",
      "the capital of  Norway is  Oslo\n",
      "the capital of  Norway is  83\n",
      "the capital of  Italy is  rome\n",
      "the capital of  Italy is  78\n"
     ]
    }
   ],
   "source": [
    "for k ,v in europ.items():\n",
    "    \n",
    "    for l,n in v.items():\n",
    "        print (\"the capital of \",str(k), \"is \",str(n))\n",
    "        \n",
    "    "
   ]
  },
  {
   "cell_type": "code",
   "execution_count": 154,
   "metadata": {},
   "outputs": [],
   "source": [
    "height = [1,2,3,4,5,6,7]\n",
    "weight = [10,20,30,40,50,60,70]\n",
    "import numpy as np\n",
    "\n",
    "np_height = np.array(height)\n",
    "np_weight = np.array(weight)\n",
    "bmi = np_weight / np_height ** 2"
   ]
  },
  {
   "cell_type": "code",
   "execution_count": 152,
   "metadata": {},
   "outputs": [
    {
     "data": {
      "text/plain": [
       "array([1, 2, 3, 4, 5, 6, 7])"
      ]
     },
     "execution_count": 152,
     "metadata": {},
     "output_type": "execute_result"
    }
   ],
   "source": [
    "np_height"
   ]
  },
  {
   "cell_type": "code",
   "execution_count": 155,
   "metadata": {},
   "outputs": [
    {
     "data": {
      "text/plain": [
       "array([10.        ,  5.        ,  3.33333333,  2.5       ,  2.        ,\n",
       "        1.66666667,  1.42857143])"
      ]
     },
     "execution_count": 155,
     "metadata": {},
     "output_type": "execute_result"
    }
   ],
   "source": [
    "bmi"
   ]
  },
  {
   "cell_type": "code",
   "execution_count": 156,
   "metadata": {},
   "outputs": [
    {
     "data": {
      "text/plain": [
       "array(['1.0', 'True', 'asskjsh'], dtype='<U32')"
      ]
     },
     "execution_count": 156,
     "metadata": {},
     "output_type": "execute_result"
    }
   ],
   "source": [
    "np.array([1.0,True,\"asskjsh\"])"
   ]
  },
  {
   "cell_type": "code",
   "execution_count": 164,
   "metadata": {},
   "outputs": [],
   "source": [
    "numpy_ar = np.array([4,5,6])"
   ]
  },
  {
   "cell_type": "code",
   "execution_count": 159,
   "metadata": {},
   "outputs": [
    {
     "data": {
      "text/plain": [
       "array([ True,  True,  True,  True, False, False, False])"
      ]
     },
     "execution_count": 159,
     "metadata": {},
     "output_type": "execute_result"
    }
   ],
   "source": [
    "bmi>2"
   ]
  },
  {
   "cell_type": "code",
   "execution_count": 163,
   "metadata": {},
   "outputs": [
    {
     "data": {
      "text/plain": [
       "array([10.        ,  5.        ,  3.33333333,  2.5       ,  2.        ,\n",
       "        1.66666667])"
      ]
     },
     "execution_count": 163,
     "metadata": {},
     "output_type": "execute_result"
    }
   ],
   "source": [
    "bmi[bmi>1.6]"
   ]
  },
  {
   "cell_type": "code",
   "execution_count": 175,
   "metadata": {},
   "outputs": [
    {
     "name": "stdout",
     "output_type": "stream",
     "text": [
      "Age\n",
      "27\n",
      "28\n",
      "29\n",
      "30\n",
      "31\n",
      "32\n",
      "33\n"
     ]
    }
   ],
   "source": [
    "import csv as c\n",
    "\n",
    "with open ('details.csv' ,'r') as f:\n",
    "    reader = c.reader(f)\n",
    "    for row in reader:\n",
    "        print (row[1])\n",
    "\n"
   ]
  },
  {
   "cell_type": "code",
   "execution_count": 184,
   "metadata": {},
   "outputs": [],
   "source": [
    "import csv\n",
    "height=[]\n",
    "weight=[]\n",
    "\n",
    "with open ('baseball.csv','r') as f:\n",
    "    reader = csv.reader(f)\n",
    "    rowlib= 0\n",
    "    for row in reader:\n",
    "        if rowlib>=1:\n",
    "            height.append(row[3])\n",
    "            weight.append(row[4])\n",
    "        rowlib=rowlib+1\n",
    "\n",
    "\n",
    "        "
   ]
  },
  {
   "cell_type": "code",
   "execution_count": 205,
   "metadata": {},
   "outputs": [
    {
     "name": "stdout",
     "output_type": "stream",
     "text": [
      "['81', '80', '80', '80', '80', '82', '80', '81', '82', '83']\n"
     ]
    }
   ],
   "source": [
    "height  = []\n",
    "with open ('baseball.csv','r') as f:\n",
    "    reader = csv.reader(f)\n",
    "    l=0 \n",
    "    for n in reader:\n",
    "        if l != 0:\n",
    "            if int(n[3]) >= 80:\n",
    "                height.append(n[3])\n",
    "        l=l+1\n",
    "            \n",
    "        \n",
    "print (height)\n",
    "\n",
    "#np_height = np_height.astype(np.float32,copy=Fase)"
   ]
  },
  {
   "cell_type": "code",
   "execution_count": 196,
   "metadata": {},
   "outputs": [
    {
     "data": {
      "text/plain": [
       "str"
      ]
     },
     "execution_count": 196,
     "metadata": {},
     "output_type": "execute_result"
    }
   ],
   "source": [
    "type (n[3])"
   ]
  },
  {
   "cell_type": "code",
   "execution_count": 231,
   "metadata": {},
   "outputs": [
    {
     "name": "stdout",
     "output_type": "stream",
     "text": [
      "[0.03287071 0.03926224 0.04050926 ... 0.03644444 0.03377778 0.03659223]\n"
     ]
    }
   ],
   "source": [
    "import csv\n",
    "import numpy as np\n",
    "height=[]\n",
    "weight=[]\n",
    "name=[]\n",
    "\n",
    "\n",
    "with open ('baseball.csv','r') as f:\n",
    "    reader = csv.reader(f)\n",
    "    rowlib= 0\n",
    "    for row in reader:\n",
    "        if rowlib>=1:\n",
    "            height.append(row[3])\n",
    "            name.append(row[0])\n",
    "            weight.append(row[4])\n",
    "        rowlib=rowlib+1\n",
    "\n",
    "\n",
    "\n",
    "#np_height = np_height.astype(np.float32,copy=Fase)\n",
    "#np_weight = np_weight.astype(np.float32,copy=Fase)\n",
    "np_height = np.array(height)\n",
    "np_weight = np.array(weight)\n",
    "np_name = np.array(name)\n",
    "np_height = np_height.astype(np.float32,copy=False)\n",
    "np_weight = np_weight.astype(np.float32,copy=False)\n",
    "bmi = np_weight / np_height ** 2\n",
    "print (bmi)"
   ]
  },
  {
   "cell_type": "code",
   "execution_count": null,
   "metadata": {},
   "outputs": [],
   "source": []
  },
  {
   "cell_type": "code",
   "execution_count": 227,
   "metadata": {},
   "outputs": [
    {
     "data": {
      "text/plain": [
       "numpy.ndarray"
      ]
     },
     "execution_count": 227,
     "metadata": {},
     "output_type": "execute_result"
    }
   ],
   "source": [
    "\n",
    "type (np_height)"
   ]
  },
  {
   "cell_type": "code",
   "execution_count": null,
   "metadata": {},
   "outputs": [],
   "source": [
    "#append mode 'a'\n",
    "# write mode 'w'\n"
   ]
  },
  {
   "cell_type": "code",
   "execution_count": 243,
   "metadata": {},
   "outputs": [
    {
     "name": "stdout",
     "output_type": "stream",
     "text": [
      "['Adam_Donachie' 'Paul_Bako' 'Ramon_Hernandez' ... 'Chris_Narveson'\n",
      " 'Randy_Keisler' 'Josh_Kinney']\n"
     ]
    }
   ],
   "source": [
    "import csv\n",
    "import numpy as np\n",
    "height=[]\n",
    "weight=[]\n",
    "name=[]\n",
    "\n",
    "\n",
    "with open ('baseball.csv','r') as f:\n",
    "    reader = csv.reader(f)\n",
    "    rowlib= 0\n",
    "    for row in reader:\n",
    "        if rowlib>=1:\n",
    "            height.append(row[3])\n",
    "            weight.append(row[4])\n",
    "            bmi = float(row[3]) / float(row[4]) ** 2\n",
    "            \n",
    "            if bmi < 21:\n",
    "                name.append(row[0])\n",
    "                \n",
    "        #name.append(row[0])\n",
    "        rowlib=rowlib+1\n",
    "\n",
    "light= np.array(name)\n",
    "print (light)\n",
    "\n",
    "#np_height = np_height.astype(np.float32,copy=Fase)\n",
    "#np_weight = np_weight.astype(np.float32,copy=Fase)\n",
    "#np_height = np.array(height)\n",
    "#np_weight = np.array(weight)\n",
    "#np_name = np.array(name)\n",
    "#np_height = np_height.astype(np.float32,copy=False)\n",
    "#np_weight = np_weight.astype(np.float32,copy=False)\n",
    "#bmi = np_weight / np_height ** 2\n",
    "#if \n",
    "\n",
    "    "
   ]
  },
  {
   "cell_type": "code",
   "execution_count": 249,
   "metadata": {},
   "outputs": [
    {
     "data": {
      "text/plain": [
       "0.0019197896120973044"
      ]
     },
     "execution_count": 249,
     "metadata": {},
     "output_type": "execute_result"
    }
   ],
   "source": [
    "np.logical_and(bmi > 21 , bmi <21)\n",
    "logical_or() #two arguments\n",
    "logical_not() # one arguments\n"
   ]
  },
  {
   "cell_type": "code",
   "execution_count": null,
   "metadata": {},
   "outputs": [],
   "source": [
    "import numpy as np\n",
    "np_height = np.array(height)\n",
    "np_height[np.logical_and(np_height > 21,np_height < 50)]"
   ]
  },
  {
   "cell_type": "code",
   "execution_count": 262,
   "metadata": {},
   "outputs": [
    {
     "data": {
      "text/plain": [
       "array(['74', '74', '72', ..., '75', '75', '73'], dtype='<U2')"
      ]
     },
     "execution_count": 262,
     "metadata": {},
     "output_type": "execute_result"
    }
   ],
   "source": [
    "np_height"
   ]
  },
  {
   "cell_type": "code",
   "execution_count": 264,
   "metadata": {},
   "outputs": [
    {
     "name": "stdout",
     "output_type": "stream",
     "text": [
      "74 inches\n",
      "74 inches\n",
      "72 inches\n",
      "72 inches\n",
      "73 inches\n",
      "69 inches\n",
      "69 inches\n",
      "71 inches\n",
      "76 inches\n",
      "71 inches\n",
      "73 inches\n",
      "73 inches\n",
      "74 inches\n",
      "74 inches\n",
      "69 inches\n",
      "70 inches\n",
      "73 inches\n",
      "75 inches\n",
      "78 inches\n",
      "79 inches\n",
      "76 inches\n",
      "74 inches\n",
      "76 inches\n",
      "72 inches\n",
      "71 inches\n",
      "75 inches\n",
      "77 inches\n",
      "74 inches\n",
      "73 inches\n",
      "74 inches\n",
      "78 inches\n",
      "73 inches\n",
      "75 inches\n",
      "73 inches\n",
      "75 inches\n",
      "75 inches\n",
      "74 inches\n",
      "69 inches\n",
      "71 inches\n",
      "74 inches\n",
      "73 inches\n",
      "73 inches\n",
      "76 inches\n",
      "74 inches\n",
      "74 inches\n",
      "70 inches\n",
      "72 inches\n",
      "77 inches\n",
      "74 inches\n",
      "70 inches\n",
      "73 inches\n",
      "75 inches\n",
      "76 inches\n",
      "76 inches\n",
      "78 inches\n",
      "74 inches\n",
      "74 inches\n",
      "76 inches\n",
      "77 inches\n",
      "81 inches\n",
      "78 inches\n",
      "75 inches\n",
      "77 inches\n",
      "75 inches\n",
      "76 inches\n",
      "74 inches\n",
      "72 inches\n",
      "72 inches\n",
      "75 inches\n",
      "73 inches\n",
      "73 inches\n",
      "73 inches\n",
      "70 inches\n",
      "70 inches\n",
      "70 inches\n",
      "76 inches\n",
      "68 inches\n",
      "71 inches\n",
      "72 inches\n",
      "75 inches\n",
      "75 inches\n",
      "75 inches\n",
      "75 inches\n",
      "68 inches\n",
      "74 inches\n",
      "78 inches\n",
      "71 inches\n",
      "73 inches\n",
      "76 inches\n",
      "74 inches\n",
      "74 inches\n",
      "79 inches\n",
      "75 inches\n",
      "73 inches\n",
      "76 inches\n",
      "74 inches\n",
      "74 inches\n",
      "73 inches\n",
      "72 inches\n",
      "74 inches\n",
      "73 inches\n",
      "74 inches\n",
      "72 inches\n",
      "73 inches\n",
      "69 inches\n",
      "72 inches\n",
      "73 inches\n",
      "75 inches\n",
      "75 inches\n",
      "73 inches\n",
      "72 inches\n",
      "72 inches\n",
      "76 inches\n",
      "74 inches\n",
      "72 inches\n",
      "77 inches\n",
      "74 inches\n",
      "77 inches\n",
      "75 inches\n",
      "76 inches\n",
      "80 inches\n",
      "74 inches\n",
      "74 inches\n",
      "75 inches\n",
      "78 inches\n",
      "73 inches\n",
      "73 inches\n",
      "74 inches\n",
      "75 inches\n",
      "76 inches\n",
      "71 inches\n",
      "73 inches\n",
      "74 inches\n",
      "76 inches\n",
      "76 inches\n",
      "74 inches\n",
      "73 inches\n",
      "74 inches\n",
      "70 inches\n",
      "72 inches\n",
      "73 inches\n",
      "73 inches\n",
      "73 inches\n",
      "73 inches\n",
      "71 inches\n",
      "74 inches\n",
      "74 inches\n",
      "72 inches\n",
      "74 inches\n",
      "71 inches\n",
      "74 inches\n",
      "73 inches\n",
      "75 inches\n",
      "75 inches\n",
      "79 inches\n",
      "73 inches\n",
      "75 inches\n",
      "76 inches\n",
      "74 inches\n",
      "76 inches\n",
      "78 inches\n",
      "74 inches\n",
      "76 inches\n",
      "72 inches\n",
      "74 inches\n",
      "76 inches\n",
      "74 inches\n",
      "75 inches\n",
      "78 inches\n",
      "75 inches\n",
      "72 inches\n",
      "74 inches\n",
      "72 inches\n",
      "74 inches\n",
      "70 inches\n",
      "71 inches\n",
      "70 inches\n",
      "75 inches\n",
      "71 inches\n",
      "71 inches\n",
      "73 inches\n",
      "72 inches\n",
      "71 inches\n",
      "73 inches\n",
      "72 inches\n",
      "75 inches\n",
      "74 inches\n",
      "74 inches\n",
      "75 inches\n",
      "73 inches\n",
      "77 inches\n",
      "73 inches\n",
      "76 inches\n",
      "75 inches\n",
      "74 inches\n",
      "76 inches\n",
      "75 inches\n",
      "73 inches\n",
      "71 inches\n",
      "76 inches\n",
      "75 inches\n",
      "72 inches\n",
      "71 inches\n",
      "77 inches\n",
      "73 inches\n",
      "74 inches\n",
      "71 inches\n",
      "72 inches\n",
      "74 inches\n",
      "75 inches\n",
      "73 inches\n",
      "72 inches\n",
      "75 inches\n",
      "75 inches\n",
      "74 inches\n",
      "72 inches\n",
      "74 inches\n",
      "71 inches\n",
      "70 inches\n",
      "74 inches\n",
      "77 inches\n",
      "77 inches\n",
      "75 inches\n",
      "75 inches\n",
      "78 inches\n",
      "75 inches\n",
      "76 inches\n",
      "73 inches\n",
      "75 inches\n",
      "75 inches\n",
      "79 inches\n",
      "77 inches\n",
      "76 inches\n",
      "71 inches\n",
      "75 inches\n",
      "74 inches\n",
      "69 inches\n",
      "71 inches\n",
      "76 inches\n",
      "72 inches\n",
      "72 inches\n",
      "70 inches\n",
      "72 inches\n",
      "73 inches\n",
      "71 inches\n",
      "72 inches\n",
      "71 inches\n",
      "73 inches\n",
      "72 inches\n",
      "73 inches\n",
      "74 inches\n",
      "74 inches\n",
      "72 inches\n",
      "75 inches\n",
      "74 inches\n",
      "74 inches\n",
      "77 inches\n",
      "75 inches\n",
      "73 inches\n",
      "72 inches\n",
      "71 inches\n",
      "74 inches\n",
      "77 inches\n",
      "75 inches\n",
      "75 inches\n",
      "75 inches\n",
      "78 inches\n",
      "78 inches\n",
      "74 inches\n",
      "76 inches\n",
      "78 inches\n",
      "76 inches\n",
      "70 inches\n",
      "72 inches\n",
      "80 inches\n",
      "74 inches\n",
      "74 inches\n",
      "71 inches\n",
      "70 inches\n",
      "72 inches\n",
      "71 inches\n",
      "74 inches\n",
      "71 inches\n",
      "72 inches\n",
      "71 inches\n",
      "74 inches\n",
      "69 inches\n",
      "76 inches\n",
      "75 inches\n",
      "75 inches\n",
      "76 inches\n",
      "73 inches\n",
      "76 inches\n",
      "73 inches\n",
      "77 inches\n",
      "73 inches\n",
      "72 inches\n",
      "72 inches\n",
      "77 inches\n",
      "77 inches\n",
      "71 inches\n",
      "74 inches\n",
      "74 inches\n",
      "73 inches\n",
      "78 inches\n",
      "75 inches\n",
      "73 inches\n",
      "70 inches\n",
      "74 inches\n",
      "72 inches\n",
      "73 inches\n",
      "73 inches\n",
      "75 inches\n",
      "75 inches\n",
      "74 inches\n",
      "76 inches\n",
      "73 inches\n",
      "74 inches\n",
      "75 inches\n",
      "75 inches\n",
      "72 inches\n",
      "73 inches\n",
      "73 inches\n",
      "72 inches\n",
      "74 inches\n",
      "78 inches\n",
      "76 inches\n",
      "73 inches\n",
      "74 inches\n",
      "75 inches\n",
      "70 inches\n",
      "75 inches\n",
      "71 inches\n",
      "72 inches\n",
      "78 inches\n",
      "75 inches\n",
      "73 inches\n",
      "73 inches\n",
      "71 inches\n",
      "75 inches\n",
      "77 inches\n",
      "72 inches\n",
      "69 inches\n",
      "73 inches\n",
      "74 inches\n",
      "72 inches\n",
      "70 inches\n",
      "75 inches\n",
      "70 inches\n",
      "72 inches\n",
      "72 inches\n",
      "74 inches\n",
      "73 inches\n",
      "74 inches\n",
      "76 inches\n",
      "75 inches\n",
      "80 inches\n",
      "72 inches\n",
      "75 inches\n",
      "73 inches\n",
      "74 inches\n",
      "74 inches\n",
      "73 inches\n",
      "75 inches\n",
      "75 inches\n",
      "71 inches\n",
      "73 inches\n",
      "75 inches\n",
      "74 inches\n",
      "74 inches\n",
      "72 inches\n",
      "74 inches\n",
      "74 inches\n",
      "74 inches\n",
      "73 inches\n",
      "76 inches\n",
      "75 inches\n",
      "72 inches\n",
      "73 inches\n",
      "73 inches\n",
      "73 inches\n",
      "72 inches\n",
      "72 inches\n",
      "72 inches\n",
      "72 inches\n",
      "71 inches\n",
      "75 inches\n",
      "75 inches\n",
      "74 inches\n",
      "73 inches\n",
      "75 inches\n",
      "79 inches\n",
      "74 inches\n",
      "76 inches\n",
      "73 inches\n",
      "74 inches\n",
      "74 inches\n",
      "72 inches\n",
      "74 inches\n",
      "74 inches\n",
      "75 inches\n",
      "78 inches\n",
      "74 inches\n",
      "74 inches\n",
      "74 inches\n",
      "77 inches\n",
      "70 inches\n",
      "73 inches\n",
      "74 inches\n",
      "73 inches\n",
      "71 inches\n",
      "75 inches\n",
      "71 inches\n",
      "72 inches\n",
      "77 inches\n",
      "74 inches\n",
      "70 inches\n",
      "77 inches\n",
      "73 inches\n",
      "72 inches\n",
      "76 inches\n",
      "71 inches\n",
      "76 inches\n",
      "78 inches\n",
      "75 inches\n",
      "73 inches\n",
      "78 inches\n",
      "74 inches\n",
      "79 inches\n",
      "75 inches\n",
      "76 inches\n",
      "72 inches\n",
      "75 inches\n",
      "75 inches\n",
      "70 inches\n",
      "72 inches\n",
      "70 inches\n",
      "74 inches\n",
      "71 inches\n",
      "76 inches\n",
      "73 inches\n",
      "76 inches\n",
      "71 inches\n",
      "69 inches\n",
      "72 inches\n",
      "72 inches\n",
      "69 inches\n",
      "73 inches\n",
      "69 inches\n",
      "73 inches\n",
      "74 inches\n",
      "74 inches\n",
      "72 inches\n",
      "71 inches\n",
      "72 inches\n",
      "72 inches\n",
      "76 inches\n",
      "76 inches\n",
      "76 inches\n",
      "74 inches\n",
      "76 inches\n",
      "75 inches\n",
      "71 inches\n",
      "72 inches\n",
      "71 inches\n",
      "73 inches\n",
      "75 inches\n",
      "76 inches\n",
      "75 inches\n",
      "71 inches\n",
      "75 inches\n",
      "74 inches\n",
      "72 inches\n",
      "73 inches\n",
      "73 inches\n",
      "73 inches\n",
      "73 inches\n",
      "76 inches\n",
      "72 inches\n",
      "76 inches\n",
      "73 inches\n",
      "73 inches\n",
      "73 inches\n",
      "75 inches\n",
      "75 inches\n",
      "77 inches\n",
      "73 inches\n",
      "72 inches\n",
      "75 inches\n",
      "70 inches\n",
      "74 inches\n",
      "72 inches\n",
      "80 inches\n",
      "71 inches\n",
      "71 inches\n",
      "74 inches\n",
      "74 inches\n",
      "73 inches\n",
      "75 inches\n",
      "76 inches\n",
      "73 inches\n",
      "77 inches\n",
      "72 inches\n",
      "73 inches\n",
      "77 inches\n",
      "76 inches\n",
      "71 inches\n",
      "75 inches\n",
      "73 inches\n",
      "74 inches\n",
      "77 inches\n",
      "71 inches\n",
      "72 inches\n",
      "73 inches\n",
      "69 inches\n",
      "73 inches\n",
      "70 inches\n",
      "74 inches\n",
      "76 inches\n",
      "73 inches\n",
      "73 inches\n",
      "75 inches\n",
      "73 inches\n",
      "79 inches\n",
      "74 inches\n",
      "73 inches\n",
      "74 inches\n",
      "77 inches\n",
      "75 inches\n",
      "74 inches\n",
      "73 inches\n",
      "77 inches\n",
      "73 inches\n",
      "77 inches\n",
      "74 inches\n",
      "74 inches\n",
      "73 inches\n",
      "77 inches\n",
      "74 inches\n",
      "77 inches\n",
      "75 inches\n",
      "77 inches\n",
      "75 inches\n",
      "71 inches\n",
      "74 inches\n",
      "70 inches\n",
      "79 inches\n",
      "72 inches\n",
      "72 inches\n",
      "70 inches\n",
      "74 inches\n",
      "74 inches\n",
      "72 inches\n",
      "73 inches\n",
      "72 inches\n",
      "74 inches\n",
      "74 inches\n",
      "76 inches\n",
      "82 inches\n",
      "74 inches\n",
      "74 inches\n",
      "70 inches\n",
      "73 inches\n",
      "73 inches\n",
      "74 inches\n",
      "77 inches\n",
      "72 inches\n",
      "76 inches\n",
      "73 inches\n",
      "73 inches\n",
      "72 inches\n",
      "74 inches\n",
      "74 inches\n",
      "71 inches\n",
      "72 inches\n",
      "75 inches\n",
      "74 inches\n",
      "74 inches\n",
      "77 inches\n",
      "70 inches\n",
      "71 inches\n",
      "73 inches\n",
      "76 inches\n",
      "71 inches\n",
      "75 inches\n",
      "74 inches\n",
      "72 inches\n",
      "76 inches\n",
      "79 inches\n",
      "76 inches\n",
      "73 inches\n",
      "76 inches\n",
      "78 inches\n",
      "75 inches\n",
      "76 inches\n",
      "72 inches\n",
      "72 inches\n",
      "73 inches\n",
      "73 inches\n",
      "75 inches\n",
      "71 inches\n",
      "76 inches\n",
      "70 inches\n",
      "75 inches\n",
      "74 inches\n",
      "75 inches\n",
      "73 inches\n",
      "71 inches\n",
      "71 inches\n",
      "72 inches\n",
      "73 inches\n",
      "73 inches\n",
      "72 inches\n",
      "69 inches\n",
      "73 inches\n",
      "78 inches\n",
      "71 inches\n",
      "73 inches\n",
      "75 inches\n",
      "76 inches\n",
      "70 inches\n",
      "74 inches\n",
      "77 inches\n",
      "75 inches\n",
      "79 inches\n",
      "72 inches\n",
      "77 inches\n",
      "73 inches\n",
      "75 inches\n",
      "75 inches\n",
      "75 inches\n",
      "73 inches\n",
      "73 inches\n",
      "76 inches\n",
      "77 inches\n",
      "75 inches\n",
      "70 inches\n",
      "71 inches\n",
      "71 inches\n",
      "75 inches\n",
      "74 inches\n",
      "69 inches\n",
      "70 inches\n",
      "75 inches\n",
      "72 inches\n",
      "75 inches\n",
      "73 inches\n",
      "72 inches\n",
      "72 inches\n",
      "72 inches\n",
      "76 inches\n",
      "75 inches\n",
      "74 inches\n",
      "69 inches\n",
      "73 inches\n",
      "72 inches\n",
      "72 inches\n",
      "75 inches\n",
      "77 inches\n",
      "76 inches\n",
      "80 inches\n",
      "77 inches\n",
      "76 inches\n",
      "79 inches\n",
      "71 inches\n",
      "75 inches\n",
      "73 inches\n",
      "76 inches\n",
      "77 inches\n",
      "73 inches\n",
      "76 inches\n",
      "70 inches\n",
      "75 inches\n",
      "73 inches\n",
      "75 inches\n",
      "70 inches\n",
      "69 inches\n",
      "71 inches\n",
      "72 inches\n",
      "72 inches\n",
      "73 inches\n",
      "70 inches\n",
      "70 inches\n",
      "73 inches\n",
      "76 inches\n",
      "75 inches\n",
      "72 inches\n",
      "73 inches\n",
      "79 inches\n",
      "71 inches\n",
      "72 inches\n",
      "74 inches\n",
      "74 inches\n",
      "74 inches\n",
      "72 inches\n",
      "76 inches\n",
      "76 inches\n",
      "72 inches\n",
      "72 inches\n",
      "71 inches\n",
      "72 inches\n",
      "72 inches\n",
      "70 inches\n",
      "77 inches\n",
      "74 inches\n",
      "72 inches\n",
      "76 inches\n",
      "71 inches\n",
      "76 inches\n",
      "71 inches\n",
      "73 inches\n",
      "70 inches\n",
      "73 inches\n",
      "73 inches\n",
      "72 inches\n",
      "71 inches\n",
      "71 inches\n",
      "71 inches\n",
      "72 inches\n",
      "72 inches\n",
      "74 inches\n",
      "74 inches\n",
      "74 inches\n",
      "71 inches\n",
      "72 inches\n",
      "75 inches\n",
      "72 inches\n",
      "71 inches\n",
      "72 inches\n",
      "72 inches\n",
      "72 inches\n",
      "72 inches\n",
      "74 inches\n",
      "74 inches\n",
      "77 inches\n",
      "75 inches\n",
      "73 inches\n",
      "75 inches\n",
      "73 inches\n",
      "76 inches\n",
      "72 inches\n",
      "77 inches\n",
      "75 inches\n",
      "72 inches\n",
      "71 inches\n",
      "71 inches\n",
      "75 inches\n",
      "72 inches\n",
      "73 inches\n",
      "73 inches\n",
      "71 inches\n",
      "70 inches\n",
      "75 inches\n",
      "71 inches\n",
      "76 inches\n",
      "73 inches\n",
      "68 inches\n",
      "71 inches\n",
      "72 inches\n",
      "74 inches\n",
      "77 inches\n",
      "72 inches\n",
      "76 inches\n",
      "78 inches\n",
      "81 inches\n",
      "72 inches\n",
      "73 inches\n",
      "76 inches\n",
      "72 inches\n",
      "72 inches\n",
      "74 inches\n",
      "76 inches\n",
      "73 inches\n",
      "76 inches\n",
      "75 inches\n",
      "70 inches\n",
      "71 inches\n",
      "74 inches\n",
      "72 inches\n",
      "73 inches\n",
      "76 inches\n",
      "76 inches\n",
      "73 inches\n",
      "71 inches\n",
      "68 inches\n",
      "71 inches\n",
      "71 inches\n",
      "74 inches\n",
      "77 inches\n",
      "69 inches\n",
      "72 inches\n",
      "76 inches\n",
      "75 inches\n",
      "76 inches\n",
      "75 inches\n",
      "76 inches\n",
      "72 inches\n",
      "74 inches\n",
      "76 inches\n",
      "74 inches\n",
      "72 inches\n",
      "75 inches\n",
      "78 inches\n",
      "77 inches\n",
      "70 inches\n",
      "72 inches\n",
      "79 inches\n",
      "74 inches\n",
      "71 inches\n",
      "68 inches\n",
      "77 inches\n",
      "75 inches\n",
      "71 inches\n",
      "72 inches\n",
      "70 inches\n",
      "72 inches\n",
      "72 inches\n",
      "73 inches\n",
      "72 inches\n",
      "74 inches\n",
      "72 inches\n",
      "72 inches\n",
      "75 inches\n",
      "72 inches\n",
      "73 inches\n",
      "74 inches\n",
      "72 inches\n",
      "78 inches\n",
      "75 inches\n",
      "72 inches\n",
      "74 inches\n",
      "75 inches\n",
      "75 inches\n",
      "76 inches\n",
      "74 inches\n",
      "74 inches\n",
      "73 inches\n",
      "74 inches\n",
      "71 inches\n",
      "74 inches\n",
      "75 inches\n",
      "76 inches\n",
      "74 inches\n",
      "76 inches\n",
      "76 inches\n",
      "73 inches\n",
      "75 inches\n",
      "75 inches\n",
      "74 inches\n",
      "68 inches\n",
      "72 inches\n",
      "75 inches\n",
      "71 inches\n",
      "70 inches\n",
      "72 inches\n",
      "73 inches\n",
      "72 inches\n",
      "75 inches\n",
      "74 inches\n",
      "70 inches\n",
      "76 inches\n",
      "71 inches\n",
      "82 inches\n",
      "72 inches\n",
      "73 inches\n",
      "74 inches\n",
      "71 inches\n",
      "75 inches\n",
      "77 inches\n",
      "72 inches\n",
      "74 inches\n",
      "72 inches\n",
      "73 inches\n",
      "78 inches\n",
      "77 inches\n",
      "73 inches\n",
      "73 inches\n",
      "73 inches\n",
      "73 inches\n",
      "73 inches\n",
      "76 inches\n",
      "75 inches\n",
      "70 inches\n",
      "73 inches\n",
      "72 inches\n",
      "73 inches\n",
      "75 inches\n",
      "74 inches\n",
      "73 inches\n",
      "73 inches\n",
      "76 inches\n",
      "73 inches\n",
      "75 inches\n",
      "70 inches\n",
      "77 inches\n",
      "72 inches\n",
      "77 inches\n",
      "74 inches\n",
      "75 inches\n",
      "75 inches\n",
      "75 inches\n",
      "75 inches\n",
      "72 inches\n",
      "74 inches\n",
      "71 inches\n",
      "76 inches\n",
      "71 inches\n",
      "75 inches\n",
      "76 inches\n",
      "83 inches\n",
      "75 inches\n",
      "74 inches\n",
      "76 inches\n",
      "72 inches\n",
      "72 inches\n",
      "75 inches\n",
      "75 inches\n",
      "72 inches\n",
      "77 inches\n",
      "73 inches\n",
      "72 inches\n",
      "70 inches\n",
      "74 inches\n",
      "72 inches\n",
      "74 inches\n",
      "72 inches\n",
      "71 inches\n",
      "70 inches\n",
      "71 inches\n",
      "76 inches\n",
      "74 inches\n",
      "76 inches\n",
      "74 inches\n",
      "74 inches\n",
      "74 inches\n",
      "75 inches\n",
      "75 inches\n",
      "71 inches\n",
      "71 inches\n",
      "74 inches\n",
      "77 inches\n",
      "71 inches\n",
      "74 inches\n",
      "75 inches\n",
      "77 inches\n",
      "76 inches\n",
      "74 inches\n",
      "76 inches\n",
      "72 inches\n",
      "71 inches\n",
      "72 inches\n",
      "75 inches\n",
      "73 inches\n",
      "68 inches\n",
      "72 inches\n",
      "69 inches\n",
      "73 inches\n",
      "73 inches\n",
      "75 inches\n",
      "70 inches\n",
      "70 inches\n",
      "74 inches\n",
      "75 inches\n",
      "74 inches\n",
      "74 inches\n",
      "73 inches\n",
      "74 inches\n",
      "75 inches\n",
      "77 inches\n",
      "73 inches\n",
      "74 inches\n",
      "76 inches\n",
      "74 inches\n",
      "75 inches\n",
      "73 inches\n",
      "76 inches\n",
      "78 inches\n",
      "75 inches\n",
      "73 inches\n",
      "77 inches\n",
      "74 inches\n",
      "72 inches\n",
      "74 inches\n",
      "72 inches\n",
      "71 inches\n",
      "73 inches\n",
      "75 inches\n",
      "73 inches\n",
      "67 inches\n",
      "67 inches\n",
      "76 inches\n",
      "74 inches\n",
      "73 inches\n",
      "70 inches\n",
      "75 inches\n",
      "70 inches\n",
      "72 inches\n",
      "77 inches\n",
      "79 inches\n",
      "78 inches\n",
      "74 inches\n",
      "75 inches\n",
      "75 inches\n",
      "78 inches\n",
      "76 inches\n",
      "75 inches\n",
      "69 inches\n",
      "75 inches\n",
      "72 inches\n",
      "75 inches\n",
      "73 inches\n",
      "74 inches\n",
      "75 inches\n",
      "75 inches\n",
      "73 inches\n"
     ]
    }
   ],
   "source": [
    "import numpy as np\n",
    "for x in np_height:\n",
    "    print (str(x),\"inches\")"
   ]
  },
  {
   "cell_type": "code",
   "execution_count": 268,
   "metadata": {},
   "outputs": [],
   "source": [
    "np_2d = np.array([[1.73,1.68,1.56,1.8],\n",
    "                 [65.3,34.4,43.4,54.2]])"
   ]
  },
  {
   "cell_type": "code",
   "execution_count": 273,
   "metadata": {},
   "outputs": [
    {
     "data": {
      "text/plain": [
       "(2, 4)"
      ]
     },
     "execution_count": 273,
     "metadata": {},
     "output_type": "execute_result"
    }
   ],
   "source": [
    "np_2d.shape"
   ]
  },
  {
   "cell_type": "code",
   "execution_count": 274,
   "metadata": {},
   "outputs": [
    {
     "data": {
      "text/plain": [
       "array([list([1.73, 1.68, 1.56, 1.8]), list([65.3, 34.4, 43.4, 54.2, 65])],\n",
       "      dtype=object)"
      ]
     },
     "execution_count": 274,
     "metadata": {},
     "output_type": "execute_result"
    }
   ],
   "source": [
    "np.array([[1.73,1.68,1.56,1.8],\n",
    "                 [65.3,34.4,43.4,54.2,65]])"
   ]
  },
  {
   "cell_type": "code",
   "execution_count": null,
   "metadata": {},
   "outputs": [],
   "source": []
  }
 ],
 "metadata": {
  "kernelspec": {
   "display_name": "Python 3",
   "language": "python",
   "name": "python3"
  },
  "language_info": {
   "codemirror_mode": {
    "name": "ipython",
    "version": 3
   },
   "file_extension": ".py",
   "mimetype": "text/x-python",
   "name": "python",
   "nbconvert_exporter": "python",
   "pygments_lexer": "ipython3",
   "version": "3.6.4"
  }
 },
 "nbformat": 4,
 "nbformat_minor": 2
}
