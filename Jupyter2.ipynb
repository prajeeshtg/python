{
 "cells": [
  {
   "cell_type": "code",
   "execution_count": 1,
   "metadata": {},
   "outputs": [
    {
     "name": "stdout",
     "output_type": "stream",
     "text": [
      "hello\n"
     ]
    }
   ],
   "source": [
    "print (\"hello\")"
   ]
  },
  {
   "cell_type": "code",
   "execution_count": 2,
   "metadata": {},
   "outputs": [
    {
     "data": {
      "text/plain": [
       "5"
      ]
     },
     "execution_count": 2,
     "metadata": {},
     "output_type": "execute_result"
    }
   ],
   "source": [
    "2+3"
   ]
  },
  {
   "cell_type": "code",
   "execution_count": 4,
   "metadata": {},
   "outputs": [
    {
     "name": "stdout",
     "output_type": "stream",
     "text": [
      "x is 1.\n"
     ]
    }
   ],
   "source": [
    "x=1\n",
    "if x==1:\n",
    "    #indented four spaces\n",
    "    print(\"x is 1.\")"
   ]
  },
  {
   "cell_type": "code",
   "execution_count": 5,
   "metadata": {},
   "outputs": [
    {
     "data": {
      "text/plain": [
       "1.7"
      ]
     },
     "execution_count": 5,
     "metadata": {},
     "output_type": "execute_result"
    }
   ],
   "source": [
    "height = 1.7\n",
    "weight =70\n",
    "height"
   ]
  },
  {
   "cell_type": "code",
   "execution_count": 6,
   "metadata": {},
   "outputs": [
    {
     "data": {
      "text/plain": [
       "70"
      ]
     },
     "execution_count": 6,
     "metadata": {},
     "output_type": "execute_result"
    }
   ],
   "source": [
    "weight"
   ]
  },
  {
   "cell_type": "code",
   "execution_count": 10,
   "metadata": {},
   "outputs": [
    {
     "data": {
      "text/plain": [
       "24.221453287197235"
      ]
     },
     "execution_count": 10,
     "metadata": {},
     "output_type": "execute_result"
    }
   ],
   "source": [
    "weight / height ** 2"
   ]
  },
  {
   "cell_type": "code",
   "execution_count": 11,
   "metadata": {},
   "outputs": [],
   "source": [
    "bmi = weight / height ** 2"
   ]
  },
  {
   "cell_type": "code",
   "execution_count": 12,
   "metadata": {},
   "outputs": [
    {
     "data": {
      "text/plain": [
       "24.221453287197235"
      ]
     },
     "execution_count": 12,
     "metadata": {},
     "output_type": "execute_result"
    }
   ],
   "source": [
    "bmi"
   ]
  },
  {
   "cell_type": "code",
   "execution_count": 13,
   "metadata": {},
   "outputs": [
    {
     "data": {
      "text/plain": [
       "float"
      ]
     },
     "execution_count": 13,
     "metadata": {},
     "output_type": "execute_result"
    }
   ],
   "source": [
    "type (bmi)"
   ]
  },
  {
   "cell_type": "code",
   "execution_count": 14,
   "metadata": {},
   "outputs": [
    {
     "data": {
      "text/plain": [
       "int"
      ]
     },
     "execution_count": 14,
     "metadata": {},
     "output_type": "execute_result"
    }
   ],
   "source": [
    "type ( weight)"
   ]
  },
  {
   "cell_type": "code",
   "execution_count": 15,
   "metadata": {},
   "outputs": [],
   "source": [
    "a = \"name\""
   ]
  },
  {
   "cell_type": "code",
   "execution_count": 16,
   "metadata": {},
   "outputs": [
    {
     "data": {
      "text/plain": [
       "str"
      ]
     },
     "execution_count": 16,
     "metadata": {},
     "output_type": "execute_result"
    }
   ],
   "source": [
    "type (a)"
   ]
  },
  {
   "cell_type": "code",
   "execution_count": 17,
   "metadata": {},
   "outputs": [
    {
     "name": "stdout",
     "output_type": "stream",
     "text": [
      "10\n"
     ]
    }
   ],
   "source": [
    "print (5+5)"
   ]
  },
  {
   "cell_type": "code",
   "execution_count": 18,
   "metadata": {},
   "outputs": [
    {
     "name": "stdout",
     "output_type": "stream",
     "text": [
      "36\n"
     ]
    }
   ],
   "source": [
    "print ( 6*6)"
   ]
  },
  {
   "cell_type": "code",
   "execution_count": 19,
   "metadata": {},
   "outputs": [
    {
     "name": "stdout",
     "output_type": "stream",
     "text": [
      "5.0\n"
     ]
    }
   ],
   "source": [
    "print (2.5/.5)"
   ]
  },
  {
   "cell_type": "code",
   "execution_count": 22,
   "metadata": {},
   "outputs": [],
   "source": [
    "x = True"
   ]
  },
  {
   "cell_type": "code",
   "execution_count": 23,
   "metadata": {},
   "outputs": [
    {
     "data": {
      "text/plain": [
       "bool"
      ]
     },
     "execution_count": 23,
     "metadata": {},
     "output_type": "execute_result"
    }
   ],
   "source": [
    "type (x)"
   ]
  },
  {
   "cell_type": "code",
   "execution_count": 24,
   "metadata": {},
   "outputs": [
    {
     "data": {
      "text/plain": [
       "4"
      ]
     },
     "execution_count": 24,
     "metadata": {},
     "output_type": "execute_result"
    }
   ],
   "source": [
    "True + 3"
   ]
  },
  {
   "cell_type": "code",
   "execution_count": 25,
   "metadata": {},
   "outputs": [
    {
     "data": {
      "text/plain": [
       "4"
      ]
     },
     "execution_count": 25,
     "metadata": {},
     "output_type": "execute_result"
    }
   ],
   "source": [
    "False + 4"
   ]
  },
  {
   "cell_type": "code",
   "execution_count": 26,
   "metadata": {},
   "outputs": [
    {
     "data": {
      "text/plain": [
       "'abcd'"
      ]
     },
     "execution_count": 26,
     "metadata": {},
     "output_type": "execute_result"
    }
   ],
   "source": [
    "'ab'+'cd'"
   ]
  },
  {
   "cell_type": "code",
   "execution_count": 28,
   "metadata": {},
   "outputs": [
    {
     "name": "stdout",
     "output_type": "stream",
     "text": [
      "I started with $100 and now have $225.0.Awesome!\n"
     ]
    }
   ],
   "source": [
    "saving = 100\n",
    "result = 100*1.5**2\n",
    "print (\"I started with $\" + str(saving) + \" and now have $\" + str(result) +\".Awesome!\" )"
   ]
  },
  {
   "cell_type": "code",
   "execution_count": 34,
   "metadata": {},
   "outputs": [
    {
     "name": "stdout",
     "output_type": "stream",
     "text": [
      "initial value $1 now the value is$500.0\n"
     ]
    }
   ],
   "source": [
    "intre = 1\n",
    "y = 1000/2 \n",
    "print (\"initial value $\" + str(intre) +\" now the value is$\" +str(y) )"
   ]
  },
  {
   "cell_type": "code",
   "execution_count": 37,
   "metadata": {},
   "outputs": [
    {
     "name": "stdout",
     "output_type": "stream",
     "text": [
      "x and y refer to the same object\n"
     ]
    }
   ],
   "source": [
    "x=19\n",
    "y =x\n",
    "if (id(x)==id(y)):\n",
    "    print (\"x and y refer to the same object\")"
   ]
  },
  {
   "cell_type": "code",
   "execution_count": 38,
   "metadata": {},
   "outputs": [
    {
     "name": "stdout",
     "output_type": "stream",
     "text": [
      "y and z point to the different memory\n"
     ]
    }
   ],
   "source": [
    "z = 100\n",
    "if (id(y)==id(z)):\n",
    "    print (\"y and z point to the same memory\")\n",
    "else:\n",
    "    print (\"y and z point to the different memory\")\n"
   ]
  },
  {
   "cell_type": "code",
   "execution_count": 40,
   "metadata": {},
   "outputs": [
    {
     "name": "stdout",
     "output_type": "stream",
     "text": [
      "11\n"
     ]
    }
   ],
   "source": [
    "def f1(x):\n",
    "    x=x*2\n",
    "    y=f2(x)\n",
    "    return y\n",
    "def f2(x):\n",
    "    x=x+1\n",
    "    return x\n",
    "\n",
    "#main \n",
    "y=5\n",
    "z=f1(y)\n",
    "print (z)"
   ]
  },
  {
   "cell_type": "code",
   "execution_count": 41,
   "metadata": {},
   "outputs": [
    {
     "data": {
      "text/plain": [
       "[1.73, 2.34, 3.4, 1.5]"
      ]
     },
     "execution_count": 41,
     "metadata": {},
     "output_type": "execute_result"
    }
   ],
   "source": [
    "fam = [1.73,2.34,3.4,1.5]\n",
    "fam"
   ]
  },
  {
   "cell_type": "code",
   "execution_count": 43,
   "metadata": {},
   "outputs": [
    {
     "data": {
      "text/plain": [
       "['my', 'list', 'is', 'nice']"
      ]
     },
     "execution_count": 43,
     "metadata": {},
     "output_type": "execute_result"
    }
   ],
   "source": [
    "a= \"is\"\n",
    "b = \"nice\"\n",
    "my_list =[\"my\", \"list\", a,b]\n",
    "my_list"
   ]
  },
  {
   "cell_type": "code",
   "execution_count": 45,
   "metadata": {},
   "outputs": [
    {
     "name": "stdout",
     "output_type": "stream",
     "text": [
      "[11.25, 18.0, 20.0, 10.75, 9.5]\n"
     ]
    }
   ],
   "source": [
    "hall=11.25\n",
    "kit =18.0\n",
    "liv =20.0\n",
    "bed =10.75\n",
    "bath =9.50\n",
    "\n",
    "areas= [hall,kit,liv,bed,bath]\n",
    "\n",
    "print(areas)"
   ]
  },
  {
   "cell_type": "code",
   "execution_count": 46,
   "metadata": {},
   "outputs": [],
   "source": [
    "areas=[\"hallway\",hall,\"kitchen\",kit,\"living room\",liv,\"bedroom\",bed,\"bathroom\",bath]"
   ]
  },
  {
   "cell_type": "code",
   "execution_count": 47,
   "metadata": {},
   "outputs": [
    {
     "name": "stdout",
     "output_type": "stream",
     "text": [
      "['hallway', 11.25, 'kitchen', 18.0, 'living room', 20.0, 'bedroom', 10.75, 'bathroom', 9.5]\n"
     ]
    }
   ],
   "source": [
    "print(areas)"
   ]
  },
  {
   "cell_type": "code",
   "execution_count": 49,
   "metadata": {},
   "outputs": [
    {
     "data": {
      "text/plain": [
       "['liza', 1.73, 'emma', 1.68, 'mom', 1.71, 'dad', 1.89]"
      ]
     },
     "execution_count": 49,
     "metadata": {},
     "output_type": "execute_result"
    }
   ],
   "source": [
    "fam=[\"liza\",1.73,\"emma\",1.68,\"mom\",1.71,\"dad\",1.89]\n",
    "fam"
   ]
  },
  {
   "cell_type": "code",
   "execution_count": 52,
   "metadata": {},
   "outputs": [
    {
     "data": {
      "text/plain": [
       "[['liza', 1.73], ['emma', 1.68], ['mom', 1.71], ['dad', 1.89]]"
      ]
     },
     "execution_count": 52,
     "metadata": {},
     "output_type": "execute_result"
    }
   ],
   "source": [
    "fam2 = [[\"liza\",1.73],\n",
    "        [\"emma\",1.68],\n",
    "        [\"mom\",1.71],\n",
    "        [\"dad\",1.89]]\n",
    "\n",
    "fam2"
   ]
  },
  {
   "cell_type": "code",
   "execution_count": 53,
   "metadata": {},
   "outputs": [
    {
     "data": {
      "text/plain": [
       "list"
      ]
     },
     "execution_count": 53,
     "metadata": {},
     "output_type": "execute_result"
    }
   ],
   "source": [
    "type (fam2)"
   ]
  },
  {
   "cell_type": "code",
   "execution_count": 54,
   "metadata": {},
   "outputs": [
    {
     "data": {
      "text/plain": [
       "['dad', 1.89]"
      ]
     },
     "execution_count": 54,
     "metadata": {},
     "output_type": "execute_result"
    }
   ],
   "source": [
    "fam2[-1]"
   ]
  },
  {
   "cell_type": "code",
   "execution_count": 55,
   "metadata": {},
   "outputs": [
    {
     "data": {
      "text/plain": [
       "1.89"
      ]
     },
     "execution_count": 55,
     "metadata": {},
     "output_type": "execute_result"
    }
   ],
   "source": [
    "fam [-1]"
   ]
  },
  {
   "cell_type": "code",
   "execution_count": 56,
   "metadata": {},
   "outputs": [
    {
     "data": {
      "text/plain": [
       "['liza', 1.73, 'emma', 1.68]"
      ]
     },
     "execution_count": 56,
     "metadata": {},
     "output_type": "execute_result"
    }
   ],
   "source": [
    "fam[:4]"
   ]
  },
  {
   "cell_type": "code",
   "execution_count": 57,
   "metadata": {},
   "outputs": [
    {
     "data": {
      "text/plain": [
       "[1.68, 'mom', 1.71, 'dad', 1.89]"
      ]
     },
     "execution_count": 57,
     "metadata": {},
     "output_type": "execute_result"
    }
   ],
   "source": [
    "fam[3:]"
   ]
  },
  {
   "cell_type": "code",
   "execution_count": 58,
   "metadata": {},
   "outputs": [
    {
     "name": "stdout",
     "output_type": "stream",
     "text": [
      "11.25\n"
     ]
    }
   ],
   "source": [
    "print (areas[1])"
   ]
  },
  {
   "cell_type": "code",
   "execution_count": 59,
   "metadata": {},
   "outputs": [
    {
     "name": "stdout",
     "output_type": "stream",
     "text": [
      "[11.25, 'kitchen', 18.0, 'living room', 20.0, 'bedroom', 10.75, 'bathroom', 9.5]\n"
     ]
    }
   ],
   "source": [
    "print (areas[1:])"
   ]
  },
  {
   "cell_type": "code",
   "execution_count": 60,
   "metadata": {},
   "outputs": [
    {
     "name": "stdout",
     "output_type": "stream",
     "text": [
      "[['mom', 1.71], ['dad', 1.89]]\n"
     ]
    }
   ],
   "source": [
    "print (fam2[2:])"
   ]
  },
  {
   "cell_type": "code",
   "execution_count": 61,
   "metadata": {},
   "outputs": [
    {
     "name": "stdout",
     "output_type": "stream",
     "text": [
      "[1.73, 'emma']\n"
     ]
    }
   ],
   "source": [
    "print (fam[1:3])"
   ]
  },
  {
   "cell_type": "code",
   "execution_count": 63,
   "metadata": {},
   "outputs": [
    {
     "name": "stdout",
     "output_type": "stream",
     "text": [
      "eat_sleep_area= 28.75\n",
      "downstairs = ['hallway', 11.25, 'kitchen', 18.0, 'living room', 20.0]\n",
      "upstairs = ['bedroom', 10.75, 'bathroom', 9.5]\n"
     ]
    }
   ],
   "source": [
    "eat_sleep_area = areas[3]+areas[7]\n",
    "print (\"eat_sleep_area=\", eat_sleep_area)\n",
    "downstairs = areas[:6]\n",
    "upstairs = areas[6:]\n",
    "\n",
    "print (\"downstairs =\",downstairs)\n",
    "print (\"upstairs =\",upstairs)"
   ]
  },
  {
   "cell_type": "code",
   "execution_count": 64,
   "metadata": {},
   "outputs": [],
   "source": [
    "fam[7] = 1.86"
   ]
  },
  {
   "cell_type": "code",
   "execution_count": 65,
   "metadata": {},
   "outputs": [],
   "source": [
    "fam[0:2]= [\"Lisa\",1.74]"
   ]
  },
  {
   "cell_type": "code",
   "execution_count": 66,
   "metadata": {},
   "outputs": [
    {
     "data": {
      "text/plain": [
       "['Lisa', 1.74, 'emma', 1.68, 'mom', 1.71, 'dad', 1.86]"
      ]
     },
     "execution_count": 66,
     "metadata": {},
     "output_type": "execute_result"
    }
   ],
   "source": [
    "fam"
   ]
  },
  {
   "cell_type": "code",
   "execution_count": 67,
   "metadata": {},
   "outputs": [],
   "source": [
    "fam_ext = fam + [\"me\",1.79]"
   ]
  },
  {
   "cell_type": "code",
   "execution_count": 68,
   "metadata": {},
   "outputs": [
    {
     "data": {
      "text/plain": [
       "['Lisa', 1.74, 'emma', 1.68, 'mom', 1.71, 'dad', 1.86, 'me', 1.79]"
      ]
     },
     "execution_count": 68,
     "metadata": {},
     "output_type": "execute_result"
    }
   ],
   "source": [
    "fam_ext"
   ]
  },
  {
   "cell_type": "code",
   "execution_count": 73,
   "metadata": {},
   "outputs": [],
   "source": [
    "del(fam_ext[8])"
   ]
  },
  {
   "cell_type": "code",
   "execution_count": 74,
   "metadata": {},
   "outputs": [
    {
     "data": {
      "text/plain": [
       "['Lisa', 1.74, 'emma', 1.68, 'mom', 1.71, 'dad', 1.86]"
      ]
     },
     "execution_count": 74,
     "metadata": {},
     "output_type": "execute_result"
    }
   ],
   "source": [
    "fam_ext"
   ]
  },
  {
   "cell_type": "code",
   "execution_count": 75,
   "metadata": {},
   "outputs": [],
   "source": [
    "fam_ext =fam+[\"me\",1.79]"
   ]
  },
  {
   "cell_type": "code",
   "execution_count": 76,
   "metadata": {},
   "outputs": [
    {
     "data": {
      "text/plain": [
       "['Lisa', 1.74, 'emma', 1.68, 'mom', 1.71, 'dad', 1.86, 'me', 1.79]"
      ]
     },
     "execution_count": 76,
     "metadata": {},
     "output_type": "execute_result"
    }
   ],
   "source": [
    "fam_ext"
   ]
  },
  {
   "cell_type": "code",
   "execution_count": 80,
   "metadata": {},
   "outputs": [
    {
     "data": {
      "text/plain": [
       "['a', 'z', 'c']"
      ]
     },
     "execution_count": 80,
     "metadata": {},
     "output_type": "execute_result"
    }
   ],
   "source": [
    "x=[\"a\",\"b\",\"c\"]\n",
    "y=x\n",
    "y[1]=\"z\"\n",
    "\n",
    "x"
   ]
  },
  {
   "cell_type": "code",
   "execution_count": 88,
   "metadata": {},
   "outputs": [
    {
     "data": {
      "text/plain": [
       "['a', 'b', 'c']"
      ]
     },
     "execution_count": 88,
     "metadata": {},
     "output_type": "execute_result"
    }
   ],
   "source": [
    "x=[\"a\",\"b\",\"c\"]\n",
    "y = list(x)\n",
    "y=x[:]\n",
    "y[1]=\"z\"\n",
    "x"
   ]
  },
  {
   "cell_type": "code",
   "execution_count": 91,
   "metadata": {},
   "outputs": [
    {
     "name": "stdout",
     "output_type": "stream",
     "text": [
      "[11.25, 18.0, 20.0, 10.75, 9.5]\n",
      "[5.0, 18.0, 20.0, 10.75, 9.5]\n"
     ]
    }
   ],
   "source": [
    "areas1 =[11.25, 18.0,20.0,10.75,9.505]\n",
    "areas_copy1= list(areas1)\n",
    "areas_copy1[0]=5.0\n",
    "print (areas1)\n",
    "print (areas_copy1)"
   ]
  },
  {
   "cell_type": "code",
   "execution_count": 116,
   "metadata": {},
   "outputs": [],
   "source": [
    "fam.append ([\"me\",1.79])"
   ]
  },
  {
   "cell_type": "code",
   "execution_count": 102,
   "metadata": {},
   "outputs": [
    {
     "name": "stdout",
     "output_type": "stream",
     "text": [
      "None\n"
     ]
    }
   ],
   "source": [
    "print (fam_ext)"
   ]
  },
  {
   "cell_type": "code",
   "execution_count": 125,
   "metadata": {},
   "outputs": [
    {
     "data": {
      "text/plain": [
       "[11.25, 18.0, 20.0, 10.75, 9.5]"
      ]
     },
     "execution_count": 125,
     "metadata": {},
     "output_type": "execute_result"
    }
   ],
   "source": [
    "areas1 =[11.25, 18.0,20.0,10.75,9.50]\n",
    "areas1"
   ]
  },
  {
   "cell_type": "code",
   "execution_count": 130,
   "metadata": {},
   "outputs": [
    {
     "data": {
      "text/plain": [
       "12"
      ]
     },
     "execution_count": 130,
     "metadata": {},
     "output_type": "execute_result"
    }
   ],
   "source": [
    "first = (11.8,12,13,14)\n",
    "round(first[0])"
   ]
  },
  {
   "cell_type": "code",
   "execution_count": 139,
   "metadata": {},
   "outputs": [
    {
     "data": {
      "text/plain": [
       "[11.8, 14, 21, 22, 23, 30, 32]"
      ]
     },
     "execution_count": 139,
     "metadata": {},
     "output_type": "execute_result"
    }
   ],
   "source": [
    "full_sorted = sorted(full,reverse=False)\n",
    "full_sorted\n"
   ]
  },
  {
   "cell_type": "code",
   "execution_count": 140,
   "metadata": {},
   "outputs": [
    {
     "data": {
      "text/plain": [
       "32"
      ]
     },
     "execution_count": 140,
     "metadata": {},
     "output_type": "execute_result"
    }
   ],
   "source": [
    "max(full_sorted)"
   ]
  },
  {
   "cell_type": "code",
   "execution_count": 141,
   "metadata": {},
   "outputs": [
    {
     "data": {
      "text/plain": [
       "7"
      ]
     },
     "execution_count": 141,
     "metadata": {},
     "output_type": "execute_result"
    }
   ],
   "source": [
    "len(full_sorted)"
   ]
  },
  {
   "cell_type": "code",
   "execution_count": 152,
   "metadata": {},
   "outputs": [
    {
     "name": "stdout",
     "output_type": "stream",
     "text": [
      "count-occurance of 1.71= 1\n",
      "index of mom= 4\n"
     ]
    }
   ],
   "source": [
    "x = fam.count(1.71)\n",
    "y = fam.index(\"mom\")\n",
    "print (\"count-occurance of 1.71=\",x)\n",
    "print (\"index of mom=\",y)"
   ]
  },
  {
   "cell_type": "code",
   "execution_count": 155,
   "metadata": {},
   "outputs": [
    {
     "data": {
      "text/plain": [
       "'Liz'"
      ]
     },
     "execution_count": 155,
     "metadata": {},
     "output_type": "execute_result"
    }
   ],
   "source": [
    "sister.capitalize()"
   ]
  },
  {
   "cell_type": "code",
   "execution_count": 157,
   "metadata": {},
   "outputs": [
    {
     "data": {
      "text/plain": [
       "'lisa'"
      ]
     },
     "execution_count": 157,
     "metadata": {},
     "output_type": "execute_result"
    }
   ],
   "source": [
    "sister.replace (\"z\",\"sa\")"
   ]
  },
  {
   "cell_type": "code",
   "execution_count": 163,
   "metadata": {},
   "outputs": [
    {
     "name": "stdout",
     "output_type": "stream",
     "text": [
      "POOLHOUSE\n",
      "poolhouse\n",
      "3\n"
     ]
    }
   ],
   "source": [
    "room = \"poolhouse\"\n",
    "roomup=room.upper()\n",
    "print (roomup)\n",
    "print (room)\n",
    "print (room.count(\"o\"))"
   ]
  },
  {
   "cell_type": "code",
   "execution_count": 181,
   "metadata": {},
   "outputs": [
    {
     "name": "stdout",
     "output_type": "stream",
     "text": [
      "[8.5, 9.5, 10.75, 20.0, 18.0, 11.25]\n"
     ]
    }
   ],
   "source": [
    "areas1.reverse()\n",
    "print (areas1)"
   ]
  },
  {
   "cell_type": "code",
   "execution_count": 182,
   "metadata": {},
   "outputs": [
    {
     "data": {
      "text/plain": [
       "array([1, 2, 3])"
      ]
     },
     "execution_count": 182,
     "metadata": {},
     "output_type": "execute_result"
    }
   ],
   "source": [
    "import numpy\n",
    "numpy.array([1,2,3])"
   ]
  },
  {
   "cell_type": "code",
   "execution_count": 183,
   "metadata": {},
   "outputs": [
    {
     "data": {
      "text/plain": [
       "array([1, 2, 3])"
      ]
     },
     "execution_count": 183,
     "metadata": {},
     "output_type": "execute_result"
    }
   ],
   "source": [
    "import numpy as np\n",
    "np.array([1,2,3])"
   ]
  },
  {
   "cell_type": "code",
   "execution_count": 5,
   "metadata": {},
   "outputs": [
    {
     "name": "stdout",
     "output_type": "stream",
     "text": [
      "curcumference:2.701769682087222\n",
      "area:0.5808804816487527\n"
     ]
    }
   ],
   "source": [
    "r= 0.43\n",
    "import math\n",
    "c=2*r*math.pi\n",
    "A= math.pi*r**2\n",
    "print (\"curcumference:\" + str(c))\n",
    "print (\"area:\" + str(A))\n"
   ]
  },
  {
   "cell_type": "code",
   "execution_count": 6,
   "metadata": {},
   "outputs": [
    {
     "data": {
      "text/plain": [
       "True"
      ]
     },
     "execution_count": 6,
     "metadata": {},
     "output_type": "execute_result"
    }
   ],
   "source": [
    "2<3"
   ]
  },
  {
   "cell_type": "code",
   "execution_count": 11,
   "metadata": {},
   "outputs": [
    {
     "data": {
      "text/plain": [
       "True"
      ]
     },
     "execution_count": 11,
     "metadata": {},
     "output_type": "execute_result"
    }
   ],
   "source": [
    "\"carl\" < \"chris\""
   ]
  },
  {
   "cell_type": "code",
   "execution_count": 20,
   "metadata": {},
   "outputs": [
    {
     "name": "stdout",
     "output_type": "stream",
     "text": [
      "False\n"
     ]
    }
   ],
   "source": [
    "x= -3*6\n",
    "print (x >= -10)"
   ]
  },
  {
   "cell_type": "code",
   "execution_count": 27,
   "metadata": {},
   "outputs": [
    {
     "name": "stdout",
     "output_type": "stream",
     "text": [
      "my_house>30 [False False  True False  True False]\n",
      "my_house < your_house [False  True False False False False]\n"
     ]
    }
   ],
   "source": [
    "import numpy as np\n",
    "\n",
    "my_house = np.array([23,24,35,12,42,9])\n",
    "your_house = np.array([4,56,34,9,32,4])\n",
    "\n",
    "print (\"my_house>30\", my_house > 30)\n",
    "print (\"my_house < your_house\",my_house < your_house)"
   ]
  },
  {
   "cell_type": "code",
   "execution_count": 29,
   "metadata": {},
   "outputs": [
    {
     "data": {
      "text/plain": [
       "False"
      ]
     },
     "execution_count": 29,
     "metadata": {},
     "output_type": "execute_result"
    }
   ],
   "source": [
    "False and False"
   ]
  },
  {
   "cell_type": "code",
   "execution_count": 31,
   "metadata": {},
   "outputs": [
    {
     "data": {
      "text/plain": [
       "False"
      ]
     },
     "execution_count": 31,
     "metadata": {},
     "output_type": "execute_result"
    }
   ],
   "source": [
    "x= 8 \n",
    "y = 9\n",
    "\n",
    "not(not(x<3) and not(y>14 or y >10))"
   ]
  },
  {
   "cell_type": "code",
   "execution_count": 32,
   "metadata": {},
   "outputs": [
    {
     "name": "stdout",
     "output_type": "stream",
     "text": [
      "looking around the kitchen\n"
     ]
    }
   ],
   "source": [
    "room = \"kit\"\n",
    "areas3= 14\n",
    "\n",
    "if room ==\"kit\" :\n",
    "    print ( \"looking around the kitchen\")\n"
   ]
  },
  {
   "cell_type": "code",
   "execution_count": 35,
   "metadata": {},
   "outputs": [
    {
     "name": "stdout",
     "output_type": "stream",
     "text": [
      "not a big place\n"
     ]
    }
   ],
   "source": [
    "areas3= 14\n",
    "\n",
    "if areas3 > 15:\n",
    "    print ( \"big place\")\n",
    "else :\n",
    "    print (\"not a big place\")"
   ]
  },
  {
   "cell_type": "code",
   "execution_count": 37,
   "metadata": {},
   "outputs": [
    {
     "name": "stdout",
     "output_type": "stream",
     "text": [
      "not a big place\n"
     ]
    }
   ],
   "source": [
    "room = \"kit\"\n",
    "areas3= 14\n",
    "\n",
    "if room ==\"kit\" :\n",
    "    print ( \"looking around the kitchen\")\n",
    "elif areas3 > 15:\n",
    "    print ( \"big place\")\n",
    "else :\n",
    "    print (\"not a big place\")\n",
    "    "
   ]
  },
  {
   "cell_type": "code",
   "execution_count": 53,
   "metadata": {},
   "outputs": [
    {
     "name": "stdout",
     "output_type": "stream",
     "text": [
      "12.5\n",
      "3.125\n",
      "0.78125\n"
     ]
    }
   ],
   "source": [
    "#while loop\n",
    "error = 50 \n",
    "\n",
    "while error > 1:\n",
    "    error = error / 4\n",
    "    print (error)"
   ]
  },
  {
   "cell_type": "code",
   "execution_count": 52,
   "metadata": {},
   "outputs": [
    {
     "name": "stdout",
     "output_type": "stream",
     "text": [
      "1\n",
      "2\n",
      "3\n"
     ]
    }
   ],
   "source": [
    "x = 1\n",
    "while x < 4 :\n",
    "        print (x) \n",
    "        x = x+1\n",
    "        "
   ]
  },
  {
   "cell_type": "code",
   "execution_count": 57,
   "metadata": {},
   "outputs": [
    {
     "name": "stdout",
     "output_type": "stream",
     "text": [
      "11\n",
      "23\n",
      "43\n",
      "53\n",
      "12\n",
      "14\n"
     ]
    }
   ],
   "source": [
    "areas = [11,23,43,53,12,14]\n",
    "for a in areas:\n",
    "    print (a)\n",
    "    "
   ]
  },
  {
   "cell_type": "code",
   "execution_count": 59,
   "metadata": {},
   "outputs": [
    {
     "name": "stdout",
     "output_type": "stream",
     "text": [
      "room 1 : 11\n",
      "room 2 : 23\n",
      "room 3 : 43\n",
      "room 4 : 53\n",
      "room 5 : 12\n",
      "room 6 : 14\n"
     ]
    }
   ],
   "source": [
    "for index, areas in enumerate (areas):\n",
    "    print (\"room\",str(index+1),\":\",str(areas))"
   ]
  },
  {
   "cell_type": "code",
   "execution_count": 68,
   "metadata": {},
   "outputs": [
    {
     "name": "stdout",
     "output_type": "stream",
     "text": [
      "the hallwayis11.25 sqm\n",
      "the Kitchenis18.0 sqm\n",
      "the living roomis20.0 sqm\n",
      "the bedroomis10.75 sqm\n",
      "the bathroomis9.5 sqm\n"
     ]
    }
   ],
   "source": [
    "house = [[\"hallway\", 11.25],\n",
    "        [\"Kitchen\",18.0],\n",
    "        [\"living room\",20.0],\n",
    "        [\"bedroom\",10.75],\n",
    "        [\"bathroom\",9.5]]\n",
    "for key ,value in house:\n",
    "    print (\"the \"+ str(key) + \"is\" + str(value) + \" sqm\")"
   ]
  },
  {
   "cell_type": "code",
   "execution_count": 78,
   "metadata": {},
   "outputs": [
    {
     "data": {
      "text/plain": [
       "7"
      ]
     },
     "execution_count": 78,
     "metadata": {},
     "output_type": "execute_result"
    }
   ],
   "source": [
    "#Dictionary\n",
    "world = {\"a\":13,\"b\":2,\"c\":7}\n",
    "world[\"c\"]"
   ]
  },
  {
   "cell_type": "code",
   "execution_count": 84,
   "metadata": {},
   "outputs": [
    {
     "data": {
      "text/plain": [
       "'madrid'"
      ]
     },
     "execution_count": 84,
     "metadata": {},
     "output_type": "execute_result"
    }
   ],
   "source": [
    "europ ={\"Spain\":\"madrid\",\n",
    "       \"France\":\"paris\",\n",
    "       \"Germany\":\"berlin\",\n",
    "       \"Norway\":\"oslo\"}\n",
    "europ[\"Spain\"]"
   ]
  },
  {
   "cell_type": "code",
   "execution_count": 86,
   "metadata": {},
   "outputs": [
    {
     "name": "stdout",
     "output_type": "stream",
     "text": [
      "dict_keys(['Spain', 'France', 'Germany', 'Norway'])\n"
     ]
    }
   ],
   "source": [
    "print (europ.keys())"
   ]
  },
  {
   "cell_type": "code",
   "execution_count": 88,
   "metadata": {},
   "outputs": [
    {
     "data": {
      "text/plain": [
       "{'a': 6.5, 'b': 7, 'c': 8}"
      ]
     },
     "execution_count": 88,
     "metadata": {},
     "output_type": "execute_result"
    }
   ],
   "source": [
    "world ={\"a\":6,\"b\":7,\"c\":8,\"a\":6.5}\n",
    "world"
   ]
  },
  {
   "cell_type": "code",
   "execution_count": 89,
   "metadata": {},
   "outputs": [
    {
     "data": {
      "text/plain": [
       "{0: 'hello', True: 'dear', 'two': 'world'}"
      ]
     },
     "execution_count": 89,
     "metadata": {},
     "output_type": "execute_result"
    }
   ],
   "source": [
    "{0:\"hello\",True:\"dear\",\"two\":\"world\"}\n"
   ]
  },
  {
   "cell_type": "code",
   "execution_count": 92,
   "metadata": {},
   "outputs": [
    {
     "name": "stdout",
     "output_type": "stream",
     "text": [
      "dict_keys([('a', 'b')])\n"
     ]
    }
   ],
   "source": [
    "v ={(\"a\",\"b\"):c}\n",
    "print (v.keys())"
   ]
  },
  {
   "cell_type": "code",
   "execution_count": 99,
   "metadata": {},
   "outputs": [],
   "source": [
    "world[\"a\"]=9\n",
    "del(world[14])"
   ]
  },
  {
   "cell_type": "code",
   "execution_count": 102,
   "metadata": {},
   "outputs": [
    {
     "data": {
      "text/plain": [
       "True"
      ]
     },
     "execution_count": 102,
     "metadata": {},
     "output_type": "execute_result"
    }
   ],
   "source": [
    "\"a\" in world"
   ]
  },
  {
   "cell_type": "code",
   "execution_count": 104,
   "metadata": {},
   "outputs": [
    {
     "data": {
      "text/plain": [
       "{'a': 10, 'b': 7, 'c': 8}"
      ]
     },
     "execution_count": 104,
     "metadata": {},
     "output_type": "execute_result"
    }
   ],
   "source": [
    "world[\"a\"]=10\n",
    "world"
   ]
  },
  {
   "cell_type": "code",
   "execution_count": 119,
   "metadata": {},
   "outputs": [
    {
     "data": {
      "text/plain": [
       "{'a': 10, 'b': 7, 'c': 8}"
      ]
     },
     "execution_count": 119,
     "metadata": {},
     "output_type": "execute_result"
    }
   ],
   "source": [
    "\n",
    "world[\"a\"]=10\n",
    "world"
   ]
  },
  {
   "cell_type": "code",
   "execution_count": 128,
   "metadata": {},
   "outputs": [
    {
     "name": "stdout",
     "output_type": "stream",
     "text": [
      "56\n"
     ]
    }
   ],
   "source": [
    "europ = {\"spain\":{\"capital\":\"madrid\",\"population\":56},\n",
    "      \"france\":{\"capital\": \"Paris\",\"population\":32},\n",
    "      \"Germany\":{\"capital\": \"Berlin\",\"population\":73},\n",
    "      \"Norway\":{\"capital\":\"Oslo\",\"population\":83}}\n",
    "print(europ[\"spain\"][\"population\"])"
   ]
  },
  {
   "cell_type": "code",
   "execution_count": 131,
   "metadata": {},
   "outputs": [
    {
     "name": "stdout",
     "output_type": "stream",
     "text": [
      "{'spain': {'capital': 'madrid', 'population': 56}, 'france': {'capital': 'Paris', 'population': 32}, 'Germany': {'capital': 'Berlin', 'population': 73}, 'Norway': {'capital': 'Oslo', 'population': 83}, 'Italy': {'capital': 'rome', 'population': 78}}\n"
     ]
    }
   ],
   "source": [
    "c= {\"capital\":\"rome\",\"population\":78}\n",
    "europ[\"Italy\"]=c\n",
    "print(europ)"
   ]
  },
  {
   "cell_type": "code",
   "execution_count": 133,
   "metadata": {},
   "outputs": [
    {
     "name": "stdout",
     "output_type": "stream",
     "text": [
      "the capital of  spain is {'capital': 'madrid', 'population': 56}\n",
      "the capital of  france is {'capital': 'Paris', 'population': 32}\n",
      "the capital of  Germany is {'capital': 'Berlin', 'population': 73}\n",
      "the capital of  Norway is {'capital': 'Oslo', 'population': 83}\n",
      "the capital of  Italy is {'capital': 'rome', 'population': 78}\n"
     ]
    }
   ],
   "source": [
    "for k,v in europ.items():\n",
    "    print(\"the capital of \",str(k), \"is\", str(v))"
   ]
  },
  {
   "cell_type": "code",
   "execution_count": 146,
   "metadata": {},
   "outputs": [
    {
     "name": "stdout",
     "output_type": "stream",
     "text": [
      "the capital of  spain is  madrid\n",
      "the capital of  spain is  56\n",
      "the capital of  france is  Paris\n",
      "the capital of  france is  32\n",
      "the capital of  Germany is  Berlin\n",
      "the capital of  Germany is  73\n",
      "the capital of  Norway is  Oslo\n",
      "the capital of  Norway is  83\n",
      "the capital of  Italy is  rome\n",
      "the capital of  Italy is  78\n"
     ]
    }
   ],
   "source": [
    "for k ,v in europ.items():\n",
    "    \n",
    "    for l,n in v.items():\n",
    "        print (\"the capital of \",str(k), \"is \",str(n))\n",
    "        \n",
    "    "
   ]
  },
  {
   "cell_type": "code",
   "execution_count": 154,
   "metadata": {},
   "outputs": [],
   "source": [
    "height = [1,2,3,4,5,6,7]\n",
    "weight = [10,20,30,40,50,60,70]\n",
    "import numpy as np\n",
    "\n",
    "np_height = np.array(height)\n",
    "np_weight = np.array(weight)\n",
    "bmi = np_weight / np_height ** 2"
   ]
  },
  {
   "cell_type": "code",
   "execution_count": 152,
   "metadata": {},
   "outputs": [
    {
     "data": {
      "text/plain": [
       "array([1, 2, 3, 4, 5, 6, 7])"
      ]
     },
     "execution_count": 152,
     "metadata": {},
     "output_type": "execute_result"
    }
   ],
   "source": [
    "np_height"
   ]
  },
  {
   "cell_type": "code",
   "execution_count": 155,
   "metadata": {},
   "outputs": [
    {
     "data": {
      "text/plain": [
       "array([10.        ,  5.        ,  3.33333333,  2.5       ,  2.        ,\n",
       "        1.66666667,  1.42857143])"
      ]
     },
     "execution_count": 155,
     "metadata": {},
     "output_type": "execute_result"
    }
   ],
   "source": [
    "bmi"
   ]
  },
  {
   "cell_type": "code",
   "execution_count": 156,
   "metadata": {},
   "outputs": [
    {
     "data": {
      "text/plain": [
       "array(['1.0', 'True', 'asskjsh'], dtype='<U32')"
      ]
     },
     "execution_count": 156,
     "metadata": {},
     "output_type": "execute_result"
    }
   ],
   "source": [
    "np.array([1.0,True,\"asskjsh\"])"
   ]
  },
  {
   "cell_type": "code",
   "execution_count": 164,
   "metadata": {},
   "outputs": [],
   "source": [
    "numpy_ar = np.array([4,5,6])"
   ]
  },
  {
   "cell_type": "code",
   "execution_count": 159,
   "metadata": {},
   "outputs": [
    {
     "data": {
      "text/plain": [
       "array([ True,  True,  True,  True, False, False, False])"
      ]
     },
     "execution_count": 159,
     "metadata": {},
     "output_type": "execute_result"
    }
   ],
   "source": [
    "bmi>2"
   ]
  },
  {
   "cell_type": "code",
   "execution_count": 163,
   "metadata": {},
   "outputs": [
    {
     "data": {
      "text/plain": [
       "array([10.        ,  5.        ,  3.33333333,  2.5       ,  2.        ,\n",
       "        1.66666667])"
      ]
     },
     "execution_count": 163,
     "metadata": {},
     "output_type": "execute_result"
    }
   ],
   "source": [
    "bmi[bmi>1.6]"
   ]
  },
  {
   "cell_type": "code",
   "execution_count": 175,
   "metadata": {},
   "outputs": [
    {
     "name": "stdout",
     "output_type": "stream",
     "text": [
      "Age\n",
      "27\n",
      "28\n",
      "29\n",
      "30\n",
      "31\n",
      "32\n",
      "33\n"
     ]
    }
   ],
   "source": [
    "import csv as c\n",
    "\n",
    "with open ('details.csv' ,'r') as f:\n",
    "    reader = c.reader(f)\n",
    "    for row in reader:\n",
    "        print (row[1])\n",
    "\n"
   ]
  },
  {
   "cell_type": "code",
   "execution_count": 184,
   "metadata": {},
   "outputs": [],
   "source": [
    "import csv\n",
    "height=[]\n",
    "weight=[]\n",
    "\n",
    "with open ('baseball.csv','r') as f:\n",
    "    reader = csv.reader(f)\n",
    "    rowlib= 0\n",
    "    for row in reader:\n",
    "        if rowlib>=1:\n",
    "            height.append(row[3])\n",
    "            weight.append(row[4])\n",
    "        rowlib=rowlib+1\n",
    "\n",
    "\n",
    "        "
   ]
  },
  {
   "cell_type": "code",
   "execution_count": 205,
   "metadata": {},
   "outputs": [
    {
     "name": "stdout",
     "output_type": "stream",
     "text": [
      "['81', '80', '80', '80', '80', '82', '80', '81', '82', '83']\n"
     ]
    }
   ],
   "source": [
    "height  = []\n",
    "with open ('baseball.csv','r') as f:\n",
    "    reader = csv.reader(f)\n",
    "    l=0 \n",
    "    for n in reader:\n",
    "        if l != 0:\n",
    "            if int(n[3]) >= 80:\n",
    "                height.append(n[3])\n",
    "        l=l+1\n",
    "            \n",
    "        \n",
    "print (height)\n",
    "\n",
    "#np_height = np_height.astype(np.float32,copy=Fase)"
   ]
  },
  {
   "cell_type": "code",
   "execution_count": 196,
   "metadata": {},
   "outputs": [
    {
     "data": {
      "text/plain": [
       "str"
      ]
     },
     "execution_count": 196,
     "metadata": {},
     "output_type": "execute_result"
    }
   ],
   "source": [
    "type (n[3])"
   ]
  },
  {
   "cell_type": "code",
   "execution_count": 231,
   "metadata": {},
   "outputs": [
    {
     "name": "stdout",
     "output_type": "stream",
     "text": [
      "[0.03287071 0.03926224 0.04050926 ... 0.03644444 0.03377778 0.03659223]\n"
     ]
    }
   ],
   "source": [
    "import csv\n",
    "import numpy as np\n",
    "height=[]\n",
    "weight=[]\n",
    "name=[]\n",
    "\n",
    "\n",
    "with open ('baseball.csv','r') as f:\n",
    "    reader = csv.reader(f)\n",
    "    rowlib= 0\n",
    "    for row in reader:\n",
    "        if rowlib>=1:\n",
    "            height.append(row[3])\n",
    "            name.append(row[0])\n",
    "            weight.append(row[4])\n",
    "        rowlib=rowlib+1\n",
    "\n",
    "\n",
    "\n",
    "#np_height = np_height.astype(np.float32,copy=Fase)\n",
    "#np_weight = np_weight.astype(np.float32,copy=Fase)\n",
    "np_height = np.array(height)\n",
    "np_weight = np.array(weight)\n",
    "np_name = np.array(name)\n",
    "np_height = np_height.astype(np.float32,copy=False)\n",
    "np_weight = np_weight.astype(np.float32,copy=False)\n",
    "bmi = np_weight / np_height ** 2\n",
    "print (bmi)"
   ]
  },
  {
   "cell_type": "code",
   "execution_count": null,
   "metadata": {},
   "outputs": [],
   "source": []
  },
  {
   "cell_type": "code",
   "execution_count": 227,
   "metadata": {},
   "outputs": [
    {
     "data": {
      "text/plain": [
       "numpy.ndarray"
      ]
     },
     "execution_count": 227,
     "metadata": {},
     "output_type": "execute_result"
    }
   ],
   "source": [
    "\n",
    "type (np_height)"
   ]
  },
  {
   "cell_type": "code",
   "execution_count": null,
   "metadata": {},
   "outputs": [],
   "source": [
    "#append mode 'a'\n",
    "# write mode 'w'\n"
   ]
  },
  {
   "cell_type": "code",
   "execution_count": 243,
   "metadata": {},
   "outputs": [
    {
     "name": "stdout",
     "output_type": "stream",
     "text": [
      "['Adam_Donachie' 'Paul_Bako' 'Ramon_Hernandez' ... 'Chris_Narveson'\n",
      " 'Randy_Keisler' 'Josh_Kinney']\n"
     ]
    }
   ],
   "source": [
    "import csv\n",
    "import numpy as np\n",
    "height=[]\n",
    "weight=[]\n",
    "name=[]\n",
    "\n",
    "\n",
    "with open ('baseball.csv','r') as f:\n",
    "    reader = csv.reader(f)\n",
    "    rowlib= 0\n",
    "    for row in reader:\n",
    "        if rowlib>=1:\n",
    "            height.append(row[3])\n",
    "            weight.append(row[4])\n",
    "            bmi = float(row[3]) / float(row[4]) ** 2\n",
    "            \n",
    "            if bmi < 21:\n",
    "                name.append(row[0])\n",
    "                \n",
    "        #name.append(row[0])\n",
    "        rowlib=rowlib+1\n",
    "\n",
    "light= np.array(name)\n",
    "print (light)\n",
    "\n",
    "#np_height = np_height.astype(np.float32,copy=Fase)\n",
    "#np_weight = np_weight.astype(np.float32,copy=Fase)\n",
    "#np_height = np.array(height)\n",
    "#np_weight = np.array(weight)\n",
    "#np_name = np.array(name)\n",
    "#np_height = np_height.astype(np.float32,copy=False)\n",
    "#np_weight = np_weight.astype(np.float32,copy=False)\n",
    "#bmi = np_weight / np_height ** 2\n",
    "#if \n",
    "\n",
    "    "
   ]
  },
  {
   "cell_type": "code",
   "execution_count": 249,
   "metadata": {},
   "outputs": [
    {
     "data": {
      "text/plain": [
       "0.0019197896120973044"
      ]
     },
     "execution_count": 249,
     "metadata": {},
     "output_type": "execute_result"
    }
   ],
   "source": [
    "np.logical_and(bmi > 21 , bmi <21)\n",
    "logical_or() #two arguments\n",
    "logical_not() # one arguments\n"
   ]
  },
  {
   "cell_type": "code",
   "execution_count": null,
   "metadata": {},
   "outputs": [],
   "source": [
    "import numpy as np\n",
    "np_height = np.array(height)\n",
    "np_height[np.logical_and(np_height > 21,np_height < 50)]"
   ]
  },
  {
   "cell_type": "code",
   "execution_count": 262,
   "metadata": {},
   "outputs": [
    {
     "data": {
      "text/plain": [
       "array(['74', '74', '72', ..., '75', '75', '73'], dtype='<U2')"
      ]
     },
     "execution_count": 262,
     "metadata": {},
     "output_type": "execute_result"
    }
   ],
   "source": [
    "np_height"
   ]
  },
  {
   "cell_type": "code",
   "execution_count": 264,
   "metadata": {},
   "outputs": [
    {
     "name": "stdout",
     "output_type": "stream",
     "text": [
      "74 inches\n",
      "74 inches\n",
      "72 inches\n",
      "72 inches\n",
      "73 inches\n",
      "69 inches\n",
      "69 inches\n",
      "71 inches\n",
      "76 inches\n",
      "71 inches\n",
      "73 inches\n",
      "73 inches\n",
      "74 inches\n",
      "74 inches\n",
      "69 inches\n",
      "70 inches\n",
      "73 inches\n",
      "75 inches\n",
      "78 inches\n",
      "79 inches\n",
      "76 inches\n",
      "74 inches\n",
      "76 inches\n",
      "72 inches\n",
      "71 inches\n",
      "75 inches\n",
      "77 inches\n",
      "74 inches\n",
      "73 inches\n",
      "74 inches\n",
      "78 inches\n",
      "73 inches\n",
      "75 inches\n",
      "73 inches\n",
      "75 inches\n",
      "75 inches\n",
      "74 inches\n",
      "69 inches\n",
      "71 inches\n",
      "74 inches\n",
      "73 inches\n",
      "73 inches\n",
      "76 inches\n",
      "74 inches\n",
      "74 inches\n",
      "70 inches\n",
      "72 inches\n",
      "77 inches\n",
      "74 inches\n",
      "70 inches\n",
      "73 inches\n",
      "75 inches\n",
      "76 inches\n",
      "76 inches\n",
      "78 inches\n",
      "74 inches\n",
      "74 inches\n",
      "76 inches\n",
      "77 inches\n",
      "81 inches\n",
      "78 inches\n",
      "75 inches\n",
      "77 inches\n",
      "75 inches\n",
      "76 inches\n",
      "74 inches\n",
      "72 inches\n",
      "72 inches\n",
      "75 inches\n",
      "73 inches\n",
      "73 inches\n",
      "73 inches\n",
      "70 inches\n",
      "70 inches\n",
      "70 inches\n",
      "76 inches\n",
      "68 inches\n",
      "71 inches\n",
      "72 inches\n",
      "75 inches\n",
      "75 inches\n",
      "75 inches\n",
      "75 inches\n",
      "68 inches\n",
      "74 inches\n",
      "78 inches\n",
      "71 inches\n",
      "73 inches\n",
      "76 inches\n",
      "74 inches\n",
      "74 inches\n",
      "79 inches\n",
      "75 inches\n",
      "73 inches\n",
      "76 inches\n",
      "74 inches\n",
      "74 inches\n",
      "73 inches\n",
      "72 inches\n",
      "74 inches\n",
      "73 inches\n",
      "74 inches\n",
      "72 inches\n",
      "73 inches\n",
      "69 inches\n",
      "72 inches\n",
      "73 inches\n",
      "75 inches\n",
      "75 inches\n",
      "73 inches\n",
      "72 inches\n",
      "72 inches\n",
      "76 inches\n",
      "74 inches\n",
      "72 inches\n",
      "77 inches\n",
      "74 inches\n",
      "77 inches\n",
      "75 inches\n",
      "76 inches\n",
      "80 inches\n",
      "74 inches\n",
      "74 inches\n",
      "75 inches\n",
      "78 inches\n",
      "73 inches\n",
      "73 inches\n",
      "74 inches\n",
      "75 inches\n",
      "76 inches\n",
      "71 inches\n",
      "73 inches\n",
      "74 inches\n",
      "76 inches\n",
      "76 inches\n",
      "74 inches\n",
      "73 inches\n",
      "74 inches\n",
      "70 inches\n",
      "72 inches\n",
      "73 inches\n",
      "73 inches\n",
      "73 inches\n",
      "73 inches\n",
      "71 inches\n",
      "74 inches\n",
      "74 inches\n",
      "72 inches\n",
      "74 inches\n",
      "71 inches\n",
      "74 inches\n",
      "73 inches\n",
      "75 inches\n",
      "75 inches\n",
      "79 inches\n",
      "73 inches\n",
      "75 inches\n",
      "76 inches\n",
      "74 inches\n",
      "76 inches\n",
      "78 inches\n",
      "74 inches\n",
      "76 inches\n",
      "72 inches\n",
      "74 inches\n",
      "76 inches\n",
      "74 inches\n",
      "75 inches\n",
      "78 inches\n",
      "75 inches\n",
      "72 inches\n",
      "74 inches\n",
      "72 inches\n",
      "74 inches\n",
      "70 inches\n",
      "71 inches\n",
      "70 inches\n",
      "75 inches\n",
      "71 inches\n",
      "71 inches\n",
      "73 inches\n",
      "72 inches\n",
      "71 inches\n",
      "73 inches\n",
      "72 inches\n",
      "75 inches\n",
      "74 inches\n",
      "74 inches\n",
      "75 inches\n",
      "73 inches\n",
      "77 inches\n",
      "73 inches\n",
      "76 inches\n",
      "75 inches\n",
      "74 inches\n",
      "76 inches\n",
      "75 inches\n",
      "73 inches\n",
      "71 inches\n",
      "76 inches\n",
      "75 inches\n",
      "72 inches\n",
      "71 inches\n",
      "77 inches\n",
      "73 inches\n",
      "74 inches\n",
      "71 inches\n",
      "72 inches\n",
      "74 inches\n",
      "75 inches\n",
      "73 inches\n",
      "72 inches\n",
      "75 inches\n",
      "75 inches\n",
      "74 inches\n",
      "72 inches\n",
      "74 inches\n",
      "71 inches\n",
      "70 inches\n",
      "74 inches\n",
      "77 inches\n",
      "77 inches\n",
      "75 inches\n",
      "75 inches\n",
      "78 inches\n",
      "75 inches\n",
      "76 inches\n",
      "73 inches\n",
      "75 inches\n",
      "75 inches\n",
      "79 inches\n",
      "77 inches\n",
      "76 inches\n",
      "71 inches\n",
      "75 inches\n",
      "74 inches\n",
      "69 inches\n",
      "71 inches\n",
      "76 inches\n",
      "72 inches\n",
      "72 inches\n",
      "70 inches\n",
      "72 inches\n",
      "73 inches\n",
      "71 inches\n",
      "72 inches\n",
      "71 inches\n",
      "73 inches\n",
      "72 inches\n",
      "73 inches\n",
      "74 inches\n",
      "74 inches\n",
      "72 inches\n",
      "75 inches\n",
      "74 inches\n",
      "74 inches\n",
      "77 inches\n",
      "75 inches\n",
      "73 inches\n",
      "72 inches\n",
      "71 inches\n",
      "74 inches\n",
      "77 inches\n",
      "75 inches\n",
      "75 inches\n",
      "75 inches\n",
      "78 inches\n",
      "78 inches\n",
      "74 inches\n",
      "76 inches\n",
      "78 inches\n",
      "76 inches\n",
      "70 inches\n",
      "72 inches\n",
      "80 inches\n",
      "74 inches\n",
      "74 inches\n",
      "71 inches\n",
      "70 inches\n",
      "72 inches\n",
      "71 inches\n",
      "74 inches\n",
      "71 inches\n",
      "72 inches\n",
      "71 inches\n",
      "74 inches\n",
      "69 inches\n",
      "76 inches\n",
      "75 inches\n",
      "75 inches\n",
      "76 inches\n",
      "73 inches\n",
      "76 inches\n",
      "73 inches\n",
      "77 inches\n",
      "73 inches\n",
      "72 inches\n",
      "72 inches\n",
      "77 inches\n",
      "77 inches\n",
      "71 inches\n",
      "74 inches\n",
      "74 inches\n",
      "73 inches\n",
      "78 inches\n",
      "75 inches\n",
      "73 inches\n",
      "70 inches\n",
      "74 inches\n",
      "72 inches\n",
      "73 inches\n",
      "73 inches\n",
      "75 inches\n",
      "75 inches\n",
      "74 inches\n",
      "76 inches\n",
      "73 inches\n",
      "74 inches\n",
      "75 inches\n",
      "75 inches\n",
      "72 inches\n",
      "73 inches\n",
      "73 inches\n",
      "72 inches\n",
      "74 inches\n",
      "78 inches\n",
      "76 inches\n",
      "73 inches\n",
      "74 inches\n",
      "75 inches\n",
      "70 inches\n",
      "75 inches\n",
      "71 inches\n",
      "72 inches\n",
      "78 inches\n",
      "75 inches\n",
      "73 inches\n",
      "73 inches\n",
      "71 inches\n",
      "75 inches\n",
      "77 inches\n",
      "72 inches\n",
      "69 inches\n",
      "73 inches\n",
      "74 inches\n",
      "72 inches\n",
      "70 inches\n",
      "75 inches\n",
      "70 inches\n",
      "72 inches\n",
      "72 inches\n",
      "74 inches\n",
      "73 inches\n",
      "74 inches\n",
      "76 inches\n",
      "75 inches\n",
      "80 inches\n",
      "72 inches\n",
      "75 inches\n",
      "73 inches\n",
      "74 inches\n",
      "74 inches\n",
      "73 inches\n",
      "75 inches\n",
      "75 inches\n",
      "71 inches\n",
      "73 inches\n",
      "75 inches\n",
      "74 inches\n",
      "74 inches\n",
      "72 inches\n",
      "74 inches\n",
      "74 inches\n",
      "74 inches\n",
      "73 inches\n",
      "76 inches\n",
      "75 inches\n",
      "72 inches\n",
      "73 inches\n",
      "73 inches\n",
      "73 inches\n",
      "72 inches\n",
      "72 inches\n",
      "72 inches\n",
      "72 inches\n",
      "71 inches\n",
      "75 inches\n",
      "75 inches\n",
      "74 inches\n",
      "73 inches\n",
      "75 inches\n",
      "79 inches\n",
      "74 inches\n",
      "76 inches\n",
      "73 inches\n",
      "74 inches\n",
      "74 inches\n",
      "72 inches\n",
      "74 inches\n",
      "74 inches\n",
      "75 inches\n",
      "78 inches\n",
      "74 inches\n",
      "74 inches\n",
      "74 inches\n",
      "77 inches\n",
      "70 inches\n",
      "73 inches\n",
      "74 inches\n",
      "73 inches\n",
      "71 inches\n",
      "75 inches\n",
      "71 inches\n",
      "72 inches\n",
      "77 inches\n",
      "74 inches\n",
      "70 inches\n",
      "77 inches\n",
      "73 inches\n",
      "72 inches\n",
      "76 inches\n",
      "71 inches\n",
      "76 inches\n",
      "78 inches\n",
      "75 inches\n",
      "73 inches\n",
      "78 inches\n",
      "74 inches\n",
      "79 inches\n",
      "75 inches\n",
      "76 inches\n",
      "72 inches\n",
      "75 inches\n",
      "75 inches\n",
      "70 inches\n",
      "72 inches\n",
      "70 inches\n",
      "74 inches\n",
      "71 inches\n",
      "76 inches\n",
      "73 inches\n",
      "76 inches\n",
      "71 inches\n",
      "69 inches\n",
      "72 inches\n",
      "72 inches\n",
      "69 inches\n",
      "73 inches\n",
      "69 inches\n",
      "73 inches\n",
      "74 inches\n",
      "74 inches\n",
      "72 inches\n",
      "71 inches\n",
      "72 inches\n",
      "72 inches\n",
      "76 inches\n",
      "76 inches\n",
      "76 inches\n",
      "74 inches\n",
      "76 inches\n",
      "75 inches\n",
      "71 inches\n",
      "72 inches\n",
      "71 inches\n",
      "73 inches\n",
      "75 inches\n",
      "76 inches\n",
      "75 inches\n",
      "71 inches\n",
      "75 inches\n",
      "74 inches\n",
      "72 inches\n",
      "73 inches\n",
      "73 inches\n",
      "73 inches\n",
      "73 inches\n",
      "76 inches\n",
      "72 inches\n",
      "76 inches\n",
      "73 inches\n",
      "73 inches\n",
      "73 inches\n",
      "75 inches\n",
      "75 inches\n",
      "77 inches\n",
      "73 inches\n",
      "72 inches\n",
      "75 inches\n",
      "70 inches\n",
      "74 inches\n",
      "72 inches\n",
      "80 inches\n",
      "71 inches\n",
      "71 inches\n",
      "74 inches\n",
      "74 inches\n",
      "73 inches\n",
      "75 inches\n",
      "76 inches\n",
      "73 inches\n",
      "77 inches\n",
      "72 inches\n",
      "73 inches\n",
      "77 inches\n",
      "76 inches\n",
      "71 inches\n",
      "75 inches\n",
      "73 inches\n",
      "74 inches\n",
      "77 inches\n",
      "71 inches\n",
      "72 inches\n",
      "73 inches\n",
      "69 inches\n",
      "73 inches\n",
      "70 inches\n",
      "74 inches\n",
      "76 inches\n",
      "73 inches\n",
      "73 inches\n",
      "75 inches\n",
      "73 inches\n",
      "79 inches\n",
      "74 inches\n",
      "73 inches\n",
      "74 inches\n",
      "77 inches\n",
      "75 inches\n",
      "74 inches\n",
      "73 inches\n",
      "77 inches\n",
      "73 inches\n",
      "77 inches\n",
      "74 inches\n",
      "74 inches\n",
      "73 inches\n",
      "77 inches\n",
      "74 inches\n",
      "77 inches\n",
      "75 inches\n",
      "77 inches\n",
      "75 inches\n",
      "71 inches\n",
      "74 inches\n",
      "70 inches\n",
      "79 inches\n",
      "72 inches\n",
      "72 inches\n",
      "70 inches\n",
      "74 inches\n",
      "74 inches\n",
      "72 inches\n",
      "73 inches\n",
      "72 inches\n",
      "74 inches\n",
      "74 inches\n",
      "76 inches\n",
      "82 inches\n",
      "74 inches\n",
      "74 inches\n",
      "70 inches\n",
      "73 inches\n",
      "73 inches\n",
      "74 inches\n",
      "77 inches\n",
      "72 inches\n",
      "76 inches\n",
      "73 inches\n",
      "73 inches\n",
      "72 inches\n",
      "74 inches\n",
      "74 inches\n",
      "71 inches\n",
      "72 inches\n",
      "75 inches\n",
      "74 inches\n",
      "74 inches\n",
      "77 inches\n",
      "70 inches\n",
      "71 inches\n",
      "73 inches\n",
      "76 inches\n",
      "71 inches\n",
      "75 inches\n",
      "74 inches\n",
      "72 inches\n",
      "76 inches\n",
      "79 inches\n",
      "76 inches\n",
      "73 inches\n",
      "76 inches\n",
      "78 inches\n",
      "75 inches\n",
      "76 inches\n",
      "72 inches\n",
      "72 inches\n",
      "73 inches\n",
      "73 inches\n",
      "75 inches\n",
      "71 inches\n",
      "76 inches\n",
      "70 inches\n",
      "75 inches\n",
      "74 inches\n",
      "75 inches\n",
      "73 inches\n",
      "71 inches\n",
      "71 inches\n",
      "72 inches\n",
      "73 inches\n",
      "73 inches\n",
      "72 inches\n",
      "69 inches\n",
      "73 inches\n",
      "78 inches\n",
      "71 inches\n",
      "73 inches\n",
      "75 inches\n",
      "76 inches\n",
      "70 inches\n",
      "74 inches\n",
      "77 inches\n",
      "75 inches\n",
      "79 inches\n",
      "72 inches\n",
      "77 inches\n",
      "73 inches\n",
      "75 inches\n",
      "75 inches\n",
      "75 inches\n",
      "73 inches\n",
      "73 inches\n",
      "76 inches\n",
      "77 inches\n",
      "75 inches\n",
      "70 inches\n",
      "71 inches\n",
      "71 inches\n",
      "75 inches\n",
      "74 inches\n",
      "69 inches\n",
      "70 inches\n",
      "75 inches\n",
      "72 inches\n",
      "75 inches\n",
      "73 inches\n",
      "72 inches\n",
      "72 inches\n",
      "72 inches\n",
      "76 inches\n",
      "75 inches\n",
      "74 inches\n",
      "69 inches\n",
      "73 inches\n",
      "72 inches\n",
      "72 inches\n",
      "75 inches\n",
      "77 inches\n",
      "76 inches\n",
      "80 inches\n",
      "77 inches\n",
      "76 inches\n",
      "79 inches\n",
      "71 inches\n",
      "75 inches\n",
      "73 inches\n",
      "76 inches\n",
      "77 inches\n",
      "73 inches\n",
      "76 inches\n",
      "70 inches\n",
      "75 inches\n",
      "73 inches\n",
      "75 inches\n",
      "70 inches\n",
      "69 inches\n",
      "71 inches\n",
      "72 inches\n",
      "72 inches\n",
      "73 inches\n",
      "70 inches\n",
      "70 inches\n",
      "73 inches\n",
      "76 inches\n",
      "75 inches\n",
      "72 inches\n",
      "73 inches\n",
      "79 inches\n",
      "71 inches\n",
      "72 inches\n",
      "74 inches\n",
      "74 inches\n",
      "74 inches\n",
      "72 inches\n",
      "76 inches\n",
      "76 inches\n",
      "72 inches\n",
      "72 inches\n",
      "71 inches\n",
      "72 inches\n",
      "72 inches\n",
      "70 inches\n",
      "77 inches\n",
      "74 inches\n",
      "72 inches\n",
      "76 inches\n",
      "71 inches\n",
      "76 inches\n",
      "71 inches\n",
      "73 inches\n",
      "70 inches\n",
      "73 inches\n",
      "73 inches\n",
      "72 inches\n",
      "71 inches\n",
      "71 inches\n",
      "71 inches\n",
      "72 inches\n",
      "72 inches\n",
      "74 inches\n",
      "74 inches\n",
      "74 inches\n",
      "71 inches\n",
      "72 inches\n",
      "75 inches\n",
      "72 inches\n",
      "71 inches\n",
      "72 inches\n",
      "72 inches\n",
      "72 inches\n",
      "72 inches\n",
      "74 inches\n",
      "74 inches\n",
      "77 inches\n",
      "75 inches\n",
      "73 inches\n",
      "75 inches\n",
      "73 inches\n",
      "76 inches\n",
      "72 inches\n",
      "77 inches\n",
      "75 inches\n",
      "72 inches\n",
      "71 inches\n",
      "71 inches\n",
      "75 inches\n",
      "72 inches\n",
      "73 inches\n",
      "73 inches\n",
      "71 inches\n",
      "70 inches\n",
      "75 inches\n",
      "71 inches\n",
      "76 inches\n",
      "73 inches\n",
      "68 inches\n",
      "71 inches\n",
      "72 inches\n",
      "74 inches\n",
      "77 inches\n",
      "72 inches\n",
      "76 inches\n",
      "78 inches\n",
      "81 inches\n",
      "72 inches\n",
      "73 inches\n",
      "76 inches\n",
      "72 inches\n",
      "72 inches\n",
      "74 inches\n",
      "76 inches\n",
      "73 inches\n",
      "76 inches\n",
      "75 inches\n",
      "70 inches\n",
      "71 inches\n",
      "74 inches\n",
      "72 inches\n",
      "73 inches\n",
      "76 inches\n",
      "76 inches\n",
      "73 inches\n",
      "71 inches\n",
      "68 inches\n",
      "71 inches\n",
      "71 inches\n",
      "74 inches\n",
      "77 inches\n",
      "69 inches\n",
      "72 inches\n",
      "76 inches\n",
      "75 inches\n",
      "76 inches\n",
      "75 inches\n",
      "76 inches\n",
      "72 inches\n",
      "74 inches\n",
      "76 inches\n",
      "74 inches\n",
      "72 inches\n",
      "75 inches\n",
      "78 inches\n",
      "77 inches\n",
      "70 inches\n",
      "72 inches\n",
      "79 inches\n",
      "74 inches\n",
      "71 inches\n",
      "68 inches\n",
      "77 inches\n",
      "75 inches\n",
      "71 inches\n",
      "72 inches\n",
      "70 inches\n",
      "72 inches\n",
      "72 inches\n",
      "73 inches\n",
      "72 inches\n",
      "74 inches\n",
      "72 inches\n",
      "72 inches\n",
      "75 inches\n",
      "72 inches\n",
      "73 inches\n",
      "74 inches\n",
      "72 inches\n",
      "78 inches\n",
      "75 inches\n",
      "72 inches\n",
      "74 inches\n",
      "75 inches\n",
      "75 inches\n",
      "76 inches\n",
      "74 inches\n",
      "74 inches\n",
      "73 inches\n",
      "74 inches\n",
      "71 inches\n",
      "74 inches\n",
      "75 inches\n",
      "76 inches\n",
      "74 inches\n",
      "76 inches\n",
      "76 inches\n",
      "73 inches\n",
      "75 inches\n",
      "75 inches\n",
      "74 inches\n",
      "68 inches\n",
      "72 inches\n",
      "75 inches\n",
      "71 inches\n",
      "70 inches\n",
      "72 inches\n",
      "73 inches\n",
      "72 inches\n",
      "75 inches\n",
      "74 inches\n",
      "70 inches\n",
      "76 inches\n",
      "71 inches\n",
      "82 inches\n",
      "72 inches\n",
      "73 inches\n",
      "74 inches\n",
      "71 inches\n",
      "75 inches\n",
      "77 inches\n",
      "72 inches\n",
      "74 inches\n",
      "72 inches\n",
      "73 inches\n",
      "78 inches\n",
      "77 inches\n",
      "73 inches\n",
      "73 inches\n",
      "73 inches\n",
      "73 inches\n",
      "73 inches\n",
      "76 inches\n",
      "75 inches\n",
      "70 inches\n",
      "73 inches\n",
      "72 inches\n",
      "73 inches\n",
      "75 inches\n",
      "74 inches\n",
      "73 inches\n",
      "73 inches\n",
      "76 inches\n",
      "73 inches\n",
      "75 inches\n",
      "70 inches\n",
      "77 inches\n",
      "72 inches\n",
      "77 inches\n",
      "74 inches\n",
      "75 inches\n",
      "75 inches\n",
      "75 inches\n",
      "75 inches\n",
      "72 inches\n",
      "74 inches\n",
      "71 inches\n",
      "76 inches\n",
      "71 inches\n",
      "75 inches\n",
      "76 inches\n",
      "83 inches\n",
      "75 inches\n",
      "74 inches\n",
      "76 inches\n",
      "72 inches\n",
      "72 inches\n",
      "75 inches\n",
      "75 inches\n",
      "72 inches\n",
      "77 inches\n",
      "73 inches\n",
      "72 inches\n",
      "70 inches\n",
      "74 inches\n",
      "72 inches\n",
      "74 inches\n",
      "72 inches\n",
      "71 inches\n",
      "70 inches\n",
      "71 inches\n",
      "76 inches\n",
      "74 inches\n",
      "76 inches\n",
      "74 inches\n",
      "74 inches\n",
      "74 inches\n",
      "75 inches\n",
      "75 inches\n",
      "71 inches\n",
      "71 inches\n",
      "74 inches\n",
      "77 inches\n",
      "71 inches\n",
      "74 inches\n",
      "75 inches\n",
      "77 inches\n",
      "76 inches\n",
      "74 inches\n",
      "76 inches\n",
      "72 inches\n",
      "71 inches\n",
      "72 inches\n",
      "75 inches\n",
      "73 inches\n",
      "68 inches\n",
      "72 inches\n",
      "69 inches\n",
      "73 inches\n",
      "73 inches\n",
      "75 inches\n",
      "70 inches\n",
      "70 inches\n",
      "74 inches\n",
      "75 inches\n",
      "74 inches\n",
      "74 inches\n",
      "73 inches\n",
      "74 inches\n",
      "75 inches\n",
      "77 inches\n",
      "73 inches\n",
      "74 inches\n",
      "76 inches\n",
      "74 inches\n",
      "75 inches\n",
      "73 inches\n",
      "76 inches\n",
      "78 inches\n",
      "75 inches\n",
      "73 inches\n",
      "77 inches\n",
      "74 inches\n",
      "72 inches\n",
      "74 inches\n",
      "72 inches\n",
      "71 inches\n",
      "73 inches\n",
      "75 inches\n",
      "73 inches\n",
      "67 inches\n",
      "67 inches\n",
      "76 inches\n",
      "74 inches\n",
      "73 inches\n",
      "70 inches\n",
      "75 inches\n",
      "70 inches\n",
      "72 inches\n",
      "77 inches\n",
      "79 inches\n",
      "78 inches\n",
      "74 inches\n",
      "75 inches\n",
      "75 inches\n",
      "78 inches\n",
      "76 inches\n",
      "75 inches\n",
      "69 inches\n",
      "75 inches\n",
      "72 inches\n",
      "75 inches\n",
      "73 inches\n",
      "74 inches\n",
      "75 inches\n",
      "75 inches\n",
      "73 inches\n"
     ]
    }
   ],
   "source": [
    "import numpy as np\n",
    "for x in np_height:\n",
    "    print (str(x),\"inches\")"
   ]
  },
  {
   "cell_type": "code",
   "execution_count": 268,
   "metadata": {},
   "outputs": [],
   "source": [
    "np_2d = np.array([[1.73,1.68,1.56,1.8],\n",
    "                 [65.3,34.4,43.4,54.2]])"
   ]
  },
  {
   "cell_type": "code",
   "execution_count": 273,
   "metadata": {},
   "outputs": [
    {
     "data": {
      "text/plain": [
       "(2, 4)"
      ]
     },
     "execution_count": 273,
     "metadata": {},
     "output_type": "execute_result"
    }
   ],
   "source": [
    "np_2d.shape"
   ]
  },
  {
   "cell_type": "code",
   "execution_count": 274,
   "metadata": {},
   "outputs": [
    {
     "data": {
      "text/plain": [
       "array([list([1.73, 1.68, 1.56, 1.8]), list([65.3, 34.4, 43.4, 54.2, 65])],\n",
       "      dtype=object)"
      ]
     },
     "execution_count": 274,
     "metadata": {},
     "output_type": "execute_result"
    }
   ],
   "source": [
    "np.array([[1.73,1.68,1.56,1.8],\n",
    "                 [65.3,34.4,43.4,54.2,65]])"
   ]
  },
  {
   "cell_type": "code",
   "execution_count": 275,
   "metadata": {},
   "outputs": [
    {
     "data": {
      "text/plain": [
       "array([1.73, 1.68, 1.56, 1.8 ])"
      ]
     },
     "execution_count": 275,
     "metadata": {},
     "output_type": "execute_result"
    }
   ],
   "source": [
    "np_2d[0]"
   ]
  },
  {
   "cell_type": "code",
   "execution_count": 276,
   "metadata": {},
   "outputs": [
    {
     "data": {
      "text/plain": [
       "(array([1.73, 1.68, 1.56, 1.8 ]), [2])"
      ]
     },
     "execution_count": 276,
     "metadata": {},
     "output_type": "execute_result"
    }
   ],
   "source": [
    "np_2d[0],[2]"
   ]
  },
  {
   "cell_type": "code",
   "execution_count": 300,
   "metadata": {},
   "outputs": [
    {
     "data": {
      "text/plain": [
       "array([ 1.73, 65.3 ])"
      ]
     },
     "execution_count": 300,
     "metadata": {},
     "output_type": "execute_result"
    }
   ],
   "source": [
    "np_2d[:,0]"
   ]
  },
  {
   "cell_type": "code",
   "execution_count": 301,
   "metadata": {},
   "outputs": [
    {
     "data": {
      "text/plain": [
       "array([[ 1.68,  1.56],\n",
       "       [34.4 , 43.4 ]])"
      ]
     },
     "execution_count": 301,
     "metadata": {},
     "output_type": "execute_result"
    }
   ],
   "source": [
    "np_2d[:,1:3]"
   ]
  },
  {
   "cell_type": "code",
   "execution_count": 304,
   "metadata": {},
   "outputs": [
    {
     "data": {
      "text/plain": [
       "array([[ 1.68,  1.56,  1.8 ],\n",
       "       [34.4 , 43.4 , 54.2 ]])"
      ]
     },
     "execution_count": 304,
     "metadata": {},
     "output_type": "execute_result"
    }
   ],
   "source": [
    "np_2d[:,1:4]"
   ]
  },
  {
   "cell_type": "code",
   "execution_count": 310,
   "metadata": {},
   "outputs": [
    {
     "name": "stdout",
     "output_type": "stream",
     "text": [
      "(3, 2)\n",
      "<class 'list'>\n"
     ]
    }
   ],
   "source": [
    "baseball = [[180,78.4],\n",
    "            [215,79.4],\n",
    "            [223,80.2]]\n",
    "import numpy as np\n",
    "np_baseball= np.array(baseball)\n",
    "print (np_baseball.shape)\n",
    "print (type(baseball))"
   ]
  },
  {
   "cell_type": "code",
   "execution_count": 329,
   "metadata": {},
   "outputs": [
    {
     "name": "stdout",
     "output_type": "stream",
     "text": [
      "[[180.  156.8]\n",
      " [215.  158.8]\n",
      " [223.   80.2]]\n"
     ]
    }
   ],
   "source": [
    "conversion = np.array([[1,2],\n",
    "                     [1,2],\n",
    "                      [1,1]])\n",
    "print (np_baseball * conversion)"
   ]
  },
  {
   "cell_type": "code",
   "execution_count": 324,
   "metadata": {},
   "outputs": [
    {
     "name": "stdout",
     "output_type": "stream",
     "text": [
      "[[395.  157.4]\n",
      " [430.  158.4]\n",
      " [438.  159.2]]\n"
     ]
    }
   ],
   "source": [
    "print (np_baseball + updated)"
   ]
  },
  {
   "cell_type": "code",
   "execution_count": 8,
   "metadata": {},
   "outputs": [
    {
     "data": {
      "text/plain": [
       "1.7466666666666668"
      ]
     },
     "execution_count": 8,
     "metadata": {},
     "output_type": "execute_result"
    }
   ],
   "source": [
    "height =[[1.72,1.87],\n",
    "         [1.76,1.87],\n",
    "         [1.76,2]]\n",
    "np_height = np.array(height)\n",
    "import numpy as np\n",
    "np.mean(np_height[:,0])\n",
    "\n"
   ]
  },
  {
   "cell_type": "code",
   "execution_count": 10,
   "metadata": {},
   "outputs": [
    {
     "data": {
      "text/plain": [
       "1.76"
      ]
     },
     "execution_count": 10,
     "metadata": {},
     "output_type": "execute_result"
    }
   ],
   "source": [
    "import numpy as np\n",
    "np.median(np_height[:,0])"
   ]
  },
  {
   "cell_type": "code",
   "execution_count": 11,
   "metadata": {},
   "outputs": [
    {
     "data": {
      "text/plain": [
       "array([[1. , 0.5],\n",
       "       [0.5, 1. ]])"
      ]
     },
     "execution_count": 11,
     "metadata": {},
     "output_type": "execute_result"
    }
   ],
   "source": [
    "import numpy as np\n",
    "np.corrcoef(np_height[:,0],np_height[:,1])"
   ]
  },
  {
   "cell_type": "code",
   "execution_count": 12,
   "metadata": {},
   "outputs": [
    {
     "data": {
      "text/plain": [
       "0.018856180831641284"
      ]
     },
     "execution_count": 12,
     "metadata": {},
     "output_type": "execute_result"
    }
   ],
   "source": [
    "import numpy as np\n",
    "np.std(np_height[:,0])"
   ]
  },
  {
   "cell_type": "code",
   "execution_count": 17,
   "metadata": {},
   "outputs": [
    {
     "name": "stdout",
     "output_type": "stream",
     "text": [
      "admin.user@company.com\n",
      "emp.abc@company.com\n"
     ]
    }
   ],
   "source": [
    "#classes\n",
    "#self = objectname \n",
    "class employee :\n",
    "    def __init__(self,first,last,pay):\n",
    "        self.first = first\n",
    "        self.last = last\n",
    "        self.pay = pay\n",
    "        self.email= first + '.' + last + '@company.com'\n",
    "\n",
    "emp1 = employee('admin','user',500)\n",
    "emp2 = employee('emp','abc',800)\n",
    "print (emp1.email)\n",
    "print (emp2.email)"
   ]
  },
  {
   "cell_type": "code",
   "execution_count": 25,
   "metadata": {},
   "outputs": [
    {
     "name": "stdout",
     "output_type": "stream",
     "text": [
      "name is  admin and email is admin.user@SG.com pay is 500\n",
      "emp emp.abc@JPMC.com 800\n"
     ]
    }
   ],
   "source": [
    "class employee :\n",
    "    def __init__(self,first,last,pay,company):\n",
    "        self.first = first\n",
    "        self.last = last\n",
    "        self.pay = pay\n",
    "        self.company = company\n",
    "        self.email= first + '.' + last + '@'+company+'.com'\n",
    "\n",
    "emp1 = employee('admin','user',500,'SG')\n",
    "emp2 = employee('emp','abc',800,'JPMC')\n",
    "print ('name is ', emp1.first,'and email is',emp1.email,'pay is',emp1.pay)\n",
    "print (emp2.first,emp2.email,emp2.pay)"
   ]
  },
  {
   "cell_type": "code",
   "execution_count": 36,
   "metadata": {},
   "outputs": [
    {
     "name": "stdout",
     "output_type": "stream",
     "text": [
      "adminuser\n"
     ]
    }
   ],
   "source": [
    "class employee :\n",
    "    def __init__(self,first,last,pay,company):\n",
    "        self.first = first\n",
    "        self.last = last\n",
    "        self.pay = pay\n",
    "        self.company = company\n",
    "        self.email= first + '.' + last + '@'+company+'.com'\n",
    "    def fullname(self):\n",
    "        return '{}' '{}'.format(self.first,self.last)\n",
    "emp1 = employee('admin','user',500,'SG')\n",
    "emp2 = employee('emp','abc',800,'JPMC')\n",
    "    \n",
    "emp1.fullname()\n",
    "print (employee.fullname(emp1))"
   ]
  },
  {
   "cell_type": "code",
   "execution_count": 50,
   "metadata": {},
   "outputs": [
    {
     "name": "stdout",
     "output_type": "stream",
     "text": [
      "C:\\Users\\ADMINI~1\\AppData\\Local\\Temp\\tmpv78x7aj2.csv\n"
     ]
    }
   ],
   "source": [
    "import urllib.request as urllib3\n",
    "import os\n",
    "import csv\n",
    "import tempfile\n",
    "\n",
    "f = tempfile.NamedTemporaryFile()\n",
    "dest = f.name +'.csv'\n",
    "print (dest)\n",
    "\n",
    "def download():\n",
    "    source = 'http://api.worldbank.org/countries/all/indicators/SP.POP.TOTL?format=csv'\n",
    "    urllib3.urlretrieve(source, dest)\n",
    "\n",
    "def process():\n",
    "    # un-pivot the table\n",
    "    fo = open(dest)\n",
    "    lines = [ row for row in csv.reader(fo) ]\n",
    "    headings = lines[0]\n",
    "    lines = lines[1:]\n",
    "\n",
    "    outheadings = [ 'Country Name', 'Country Code', 'Year', 'Value' ]\n",
    "    outlines = []\n",
    "\n",
    "    for row in lines:\n",
    "        for idx, year in enumerate(headings[2:]):\n",
    "            if row[idx+2]:\n",
    "                # do not convert to float as we end up with scientific notation\n",
    "                value = row[idx+2]\n",
    "                outlines.append(row[:2] + [int(year), value])\n",
    "\n",
    "    writer = csv.writer(open('C:/Users/Administrator/Desktop/Python/population.csv', 'w'))\n",
    "    writer.writerow(outheadings)\n",
    "    writer.writerows(outlines)\n",
    "\n",
    "download()\n",
    "process()\n"
   ]
  },
  {
   "cell_type": "code",
   "execution_count": 52,
   "metadata": {},
   "outputs": [
    {
     "data": {
      "image/png": "[encoded data removed]",
      "text/plain": [
       "<matplotlib.figure.Figure at 0x269de5bec50>"
      ]
     },
     "metadata": {},
     "output_type": "display_data"
    },
    {
     "name": "stdout",
     "output_type": "stream",
     "text": [
      "None\n"
     ]
    }
   ],
   "source": [
    "#plots with matplotlib\n",
    "#matplotlib\n",
    "\n",
    "import matplotlib.pyplot as plt\n",
    "year = [1990,1991,1945,1976]\n",
    "pop = [2.5,5.6,6.7,1.7]\n",
    "plt.plot(year,pop)\n",
    "print (plt.show())"
   ]
  },
  {
   "cell_type": "code",
   "execution_count": 83,
   "metadata": {},
   "outputs": [
    {
     "data": {
      "image/png": "[encoded data removed]",
      "text/plain": [
       "<matplotlib.figure.Figure at 0x269de6a7c50>"
      ]
     },
     "metadata": {},
     "output_type": "display_data"
    },
    {
     "name": "stdout",
     "output_type": "stream",
     "text": [
      "None\n"
     ]
    }
   ],
   "source": [
    "import csv\n",
    "import numpy as np\n",
    "import matplotlib.pyplot as plt\n",
    "value=[]\n",
    "year=[]\n",
    "Country_Name=[]\n",
    "\n",
    "with open ('population.csv','r') as f:\n",
    "    reader = csv.reader(f)\n",
    "    rowlib= 0\n",
    "    for row in reader:\n",
    "        \n",
    "        if row[0]=='India':\n",
    "            if int (row[2]) > 2000:\n",
    "                if rowlib>=1:\n",
    "                    Country_Name.append(row[0])\n",
    "                    value.append(row[3])\n",
    "                    year.append(row[2])\n",
    "                \n",
    "        rowlib =rowlib+1\n",
    "country = np.array(Country_Name)\n",
    "pop = np.array(value)\n",
    "year1 = np.array(year)\n",
    "\n",
    "color = plt.bar(year1,pop)\n",
    "color[3].set_color('r')\n",
    "print (plt.show())\n",
    "                \n",
    "            \n",
    "    \n",
    "    "
   ]
  },
  {
   "cell_type": "code",
   "execution_count": 53,
   "metadata": {},
   "outputs": [
    {
     "data": {
      "image/png": "[encoded data removed]",
      "text/plain": [
       "<matplotlib.figure.Figure at 0x269de658630>"
      ]
     },
     "metadata": {},
     "output_type": "display_data"
    },
    {
     "name": "stdout",
     "output_type": "stream",
     "text": [
      "None\n"
     ]
    }
   ],
   "source": [
    "import matplotlib.pyplot as plt\n",
    "year = [1990,1991,1945,1976]\n",
    "pop = [2.5,5.6,6.7,1.7]\n",
    "plt.scatter(year,pop)\n",
    "print (plt.show())"
   ]
  },
  {
   "cell_type": "code",
   "execution_count": 54,
   "metadata": {},
   "outputs": [
    {
     "data": {
      "image/png": "[encoded data removed]",
      "text/plain": [
       "<matplotlib.figure.Figure at 0x269de6af5f8>"
      ]
     },
     "metadata": {},
     "output_type": "display_data"
    },
    {
     "name": "stdout",
     "output_type": "stream",
     "text": [
      "None\n"
     ]
    }
   ],
   "source": [
    "import matplotlib.pyplot as plt\n",
    "year = [1990,1991,1945,1976]\n",
    "pop = [2.5,5.6,6.7,1.7]\n",
    "plt.bar(year,pop)\n",
    "print (plt.show())"
   ]
  },
  {
   "cell_type": "code",
   "execution_count": 56,
   "metadata": {},
   "outputs": [
    {
     "data": {
      "image/png": "[encoded data removed]",
      "text/plain": [
       "<matplotlib.figure.Figure at 0x269de709278>"
      ]
     },
     "metadata": {},
     "output_type": "display_data"
    },
    {
     "name": "stdout",
     "output_type": "stream",
     "text": [
      "None\n"
     ]
    }
   ],
   "source": [
    "#histogram\n",
    "values =[0.,0.6,1.4,1.6,1.8,1.9,2.0,2.1]\n",
    "\n",
    "plt.hist(values,bins=3)\n",
    "plt.show()\n",
    "print (plt.show())\n",
    "\n"
   ]
  },
  {
   "cell_type": "code",
   "execution_count": 58,
   "metadata": {
    "scrolled": true
   },
   "outputs": [
    {
     "data": {
      "image/png": "[encoded data removed]",
      "text/plain": [
       "<matplotlib.figure.Figure at 0x269de7a6c18>"
      ]
     },
     "metadata": {},
     "output_type": "display_data"
    },
    {
     "name": "stdout",
     "output_type": "stream",
     "text": [
      "None\n"
     ]
    }
   ],
   "source": [
    "import matplotlib.pyplot as plt\n",
    "year = [1990,1991,1945,1976]\n",
    "pop = [2.5,5.6,6.7,1.7]\n",
    "plt.plot(year,pop)\n",
    "plt.xlabel('year')\n",
    "plt.ylabel('population')\n",
    "plt.title ('word population')\n",
    "plt.yticks([0,1,2,3,4,5],\n",
    "           ['0','1B','2B','3B','4B','5B'])\n",
    "print (plt.show())"
   ]
  },
  {
   "cell_type": "code",
   "execution_count": 116,
   "metadata": {},
   "outputs": [
    {
     "name": "stdout",
     "output_type": "stream",
     "text": [
      "9    1\n",
      "8    2\n",
      "7    3\n",
      "6    4\n",
      "7    5\n",
      "4    6\n",
      "3    7\n",
      "dtype: int64\n"
     ]
    }
   ],
   "source": [
    "import pandas as pd\n",
    "s= pd.Series(list('abcdef'))\n",
    "l= pd.Series([1,2,3,4,5,6,7],\n",
    "index =([9,8,7,6,7,4,3]))\n",
    "print (l)\n"
   ]
  },
  {
   "cell_type": "code",
   "execution_count": 111,
   "metadata": {},
   "outputs": [
    {
     "name": "stdout",
     "output_type": "stream",
     "text": [
      "7    c\n",
      "7    e\n",
      "dtype: object\n"
     ]
    }
   ],
   "source": [
    "print (l[7])"
   ]
  },
  {
   "cell_type": "code",
   "execution_count": 121,
   "metadata": {},
   "outputs": [
    {
     "name": "stdout",
     "output_type": "stream",
     "text": [
      "7    3\n",
      "6    4\n",
      "7    5\n",
      "4    6\n",
      "3    7\n",
      "dtype: int64\n"
     ]
    }
   ],
   "source": [
    "print (l[l>2])"
   ]
  },
  {
   "cell_type": "code",
   "execution_count": 127,
   "metadata": {},
   "outputs": [
    {
     "name": "stdout",
     "output_type": "stream",
     "text": [
      "a    200.0\n",
      "b    400.0\n",
      "c      NaN\n",
      "d      NaN\n",
      "e    600.0\n",
      "dtype: float64\n"
     ]
    }
   ],
   "source": [
    "import pandas as pd\n",
    "pdata = {'a':100,'b':200,'e':300}\n",
    "p = pd.Series(pdata)\n",
    "\n",
    "p=pd.Series(pdata,list('abcde'))\n",
    "\n",
    "print (p*2)"
   ]
  },
  {
   "cell_type": "code",
   "execution_count": 135,
   "metadata": {},
   "outputs": [
    {
     "name": "stdout",
     "output_type": "stream",
     "text": [
      "a    300.0\n",
      "b    400.0\n",
      "c      NaN\n",
      "d      NaN\n",
      "e      NaN\n",
      "dtype: float64\n"
     ]
    }
   ],
   "source": [
    "s= pd.Series ([3,2,3],index=['a','b','c'])\n",
    "print (s*p)"
   ]
  },
  {
   "cell_type": "code",
   "execution_count": 149,
   "metadata": {},
   "outputs": [
    {
     "name": "stdout",
     "output_type": "stream",
     "text": [
      "    pop state  year\n",
      "0  18.8    FL  2010\n",
      "1  19.1    FL  2011\n",
      "2   9.7    GA  2008\n",
      "3   9.7    GA  2010\n",
      "4   9.8    GA  2011\n"
     ]
    }
   ],
   "source": [
    "import pandas as pd\n",
    "data = {'state': ['FL','FL','GA','GA','GA'],\n",
    "   'year': [2010,2011,2008,2010,2011],\n",
    "   'pop': [18.8,19.1,9.7,9.7,9.8]}\n",
    "frame=pd.DataFrame(data)\n",
    "\n",
    "\n",
    "print (frame)"
   ]
  },
  {
   "cell_type": "code",
   "execution_count": 143,
   "metadata": {},
   "outputs": [
    {
     "name": "stdout",
     "output_type": "stream",
     "text": [
      "        FL   GA\n",
      "2010  18.8  NaN\n",
      "2011  19.8  2.7\n"
     ]
    }
   ],
   "source": [
    "import pandas as pd\n",
    "\n",
    "x = {'FL': {2010:18.8,2011:19.8},\n",
    "   'GA': {2011:18.8,2011:18.9,2011:2.7}}\n",
    "y = pd.DataFrame(x)\n",
    "\n",
    "print (y)"
   ]
  },
  {
   "cell_type": "code",
   "execution_count": 156,
   "metadata": {},
   "outputs": [
    {
     "name": "stdout",
     "output_type": "stream",
     "text": [
      "    pop state  year other  calc\n",
      "0  18.8    FL  2010   NaN  37.6\n",
      "1  19.1    FL  2011   NaN  38.2\n",
      "2   9.7    GA  2008   NaN  19.4\n",
      "3   9.7    GA  2010   NaN  19.4\n",
      "4   9.8    GA  2011   NaN  19.6\n"
     ]
    }
   ],
   "source": [
    "import pandas as pd\n",
    "a = 'NaN'\n",
    "frame['other'] = a\n",
    "frame ['calc'] = frame ['pop'] *2\n",
    "print (frame)"
   ]
  },
  {
   "cell_type": "code",
   "execution_count": 157,
   "metadata": {},
   "outputs": [
    {
     "data": {
      "text/html": [
       "<div>\n",
       "<style scoped>\n",
       "    .dataframe tbody tr th:only-of-type {\n",
       "        vertical-align: middle;\n",
       "    }\n",
       "\n",
       "    .dataframe tbody tr th {\n",
       "        vertical-align: top;\n",
       "    }\n",
       "\n",
       "    .dataframe thead th {\n",
       "        text-align: right;\n",
       "    }\n",
       "</style>\n",
       "<table border=\"1\" class=\"dataframe\">\n",
       "  <thead>\n",
       "    <tr style=\"text-align: right;\">\n",
       "      <th></th>\n",
       "      <th>pop</th>\n",
       "      <th>state</th>\n",
       "      <th>year</th>\n",
       "      <th>other</th>\n",
       "      <th>calc</th>\n",
       "    </tr>\n",
       "  </thead>\n",
       "  <tbody>\n",
       "    <tr>\n",
       "      <th>0</th>\n",
       "      <td>18.8</td>\n",
       "      <td>FL</td>\n",
       "      <td>2010</td>\n",
       "      <td>NaN</td>\n",
       "      <td>37.6</td>\n",
       "    </tr>\n",
       "    <tr>\n",
       "      <th>1</th>\n",
       "      <td>19.1</td>\n",
       "      <td>FL</td>\n",
       "      <td>2011</td>\n",
       "      <td>NaN</td>\n",
       "      <td>38.2</td>\n",
       "    </tr>\n",
       "    <tr>\n",
       "      <th>2</th>\n",
       "      <td>9.7</td>\n",
       "      <td>GA</td>\n",
       "      <td>2008</td>\n",
       "      <td>NaN</td>\n",
       "      <td>19.4</td>\n",
       "    </tr>\n",
       "  </tbody>\n",
       "</table>\n",
       "</div>"
      ],
      "text/plain": [
       "    pop state  year other  calc\n",
       "0  18.8    FL  2010   NaN  37.6\n",
       "1  19.1    FL  2011   NaN  38.2\n",
       "2   9.7    GA  2008   NaN  19.4"
      ]
     },
     "execution_count": 157,
     "metadata": {},
     "output_type": "execute_result"
    }
   ],
   "source": [
    "frame.reindex(range(3))"
   ]
  },
  {
   "cell_type": "code",
   "execution_count": 170,
   "metadata": {},
   "outputs": [
    {
     "name": "stdout",
     "output_type": "stream",
     "text": [
      "0      blue\n",
      "1    purple\n",
      "2       red\n",
      "3       NaN\n",
      "4       NaN\n",
      "dtype: object\n"
     ]
    }
   ],
   "source": [
    "import pandas as pd\n",
    "x= pd.Series(['blue','purple','red'],\n",
    "            index = [0,1,2])\n",
    "y = x.reindex(range(5))\n",
    "print (y.reindex(range(5), fill_value='black'))\n",
    "\n"
   ]
  },
  {
   "cell_type": "code",
   "execution_count": 173,
   "metadata": {},
   "outputs": [
    {
     "name": "stdout",
     "output_type": "stream",
     "text": [
      "FL    38.6\n",
      "GA     2.7\n",
      "dtype: float64\n"
     ]
    }
   ],
   "source": [
    "import pandas as pd\n",
    "\n",
    "x = {'FL': {2010:18.8,2011:19.8},\n",
    "   'GA': {2011:18.8,2011:18.9,2011:2.7}}\n",
    "y = pd.DataFrame(x)\n",
    "\n",
    "print (y.sum())"
   ]
  },
  {
   "cell_type": "code",
   "execution_count": 174,
   "metadata": {},
   "outputs": [
    {
     "name": "stdout",
     "output_type": "stream",
     "text": [
      "FL    19.3\n",
      "GA     2.7\n",
      "dtype: float64\n"
     ]
    }
   ],
   "source": [
    "print (y.mean())"
   ]
  },
  {
   "cell_type": "code",
   "execution_count": 175,
   "metadata": {},
   "outputs": [
    {
     "name": "stdout",
     "output_type": "stream",
     "text": [
      "              FL   GA\n",
      "count   2.000000  1.0\n",
      "mean   19.300000  2.7\n",
      "std     0.707107  NaN\n",
      "min    18.800000  2.7\n",
      "25%    19.050000  2.7\n",
      "50%    19.300000  2.7\n",
      "75%    19.550000  2.7\n",
      "max    19.800000  2.7\n"
     ]
    }
   ],
   "source": [
    "print (y.describe())"
   ]
  },
  {
   "cell_type": "code",
   "execution_count": 176,
   "metadata": {},
   "outputs": [
    {
     "name": "stdout",
     "output_type": "stream",
     "text": [
      "         FL     GA\n",
      "2010  False  False\n",
      "2011  False  False\n"
     ]
    }
   ],
   "source": [
    "print (y< 2)"
   ]
  },
  {
   "cell_type": "code",
   "execution_count": 194,
   "metadata": {},
   "outputs": [
    {
     "ename": "TypeError",
     "evalue": "'a' is an invalid keyword argument for this function",
     "output_type": "error",
     "traceback": [
      "\u001b[1;31m---------------------------------------------------------------------------\u001b[0m",
      "\u001b[1;31mTypeError\u001b[0m                                 Traceback (most recent call last)",
      "\u001b[1;32m<ipython-input-194-1fef26047961>\u001b[0m in \u001b[0;36m<module>\u001b[1;34m()\u001b[0m\n\u001b[0;32m      1\u001b[0m \u001b[1;32mimport\u001b[0m \u001b[0mpandas\u001b[0m \u001b[1;32mas\u001b[0m \u001b[0mpd\u001b[0m\u001b[1;33m\u001b[0m\u001b[0m\n\u001b[0;32m      2\u001b[0m \u001b[0ma\u001b[0m \u001b[1;33m=\u001b[0m \u001b[0my\u001b[0m\u001b[1;33m[\u001b[0m\u001b[0my\u001b[0m \u001b[1;33m>\u001b[0m\u001b[1;36m9.8\u001b[0m\u001b[1;33m]\u001b[0m\u001b[1;33m\u001b[0m\u001b[0m\n\u001b[1;32m----> 3\u001b[1;33m \u001b[0mprint\u001b[0m \u001b[1;33m(\u001b[0m\u001b[0ma\u001b[0m\u001b[1;33m=\u001b[0m\u001b[1;36m0\u001b[0m\u001b[1;33m)\u001b[0m\u001b[1;33m\u001b[0m\u001b[0m\n\u001b[0m",
      "\u001b[1;31mTypeError\u001b[0m: 'a' is an invalid keyword argument for this function"
     ]
    }
   ],
   "source": [
    "import pandas as pd\n",
    "a = y[y >9.8]\n",
    "print (=0)"
   ]
  },
  {
   "cell_type": "code",
   "execution_count": null,
   "metadata": {},
   "outputs": [],
   "source": [
    "file name = pd.read_csv (path)\n",
    "\n",
    "filename.ix[:2]"
   ]
  },
  {
   "cell_type": "code",
   "execution_count": null,
   "metadata": {},
   "outputs": [],
   "source": [
    "import pandas as pd\n",
    "pop = pd.read_csv('C:/Users/Administrator/Desktop/')"
   ]
  },
  {
   "cell_type": "code",
   "execution_count": null,
   "metadata": {},
   "outputs": [],
   "source": [
    "#map -> for loop "
   ]
  },
  {
   "cell_type": "code",
   "execution_count": 204,
   "metadata": {},
   "outputs": [
    {
     "name": "stdout",
     "output_type": "stream",
     "text": [
      "            Date       Open       High        Low      Close  Adj Close  \\\n",
      "0     2000-10-02   7.365320   7.391624   6.681397   7.036511   7.036511   \n",
      "1     2000-10-03   7.141730   7.273253   6.510417   6.523569   6.523569   \n",
      "2     2000-10-04   6.457807   6.951021   6.214489   6.799768   6.799768   \n",
      "3     2000-10-05   6.687973   7.089120   6.576179   6.720854   6.720854   \n",
      "4     2000-10-06   6.727430   6.799768   5.800189   6.253946   6.253946   \n",
      "5     2000-10-09   6.194760   6.615635   5.635785   6.411774   6.411774   \n",
      "6     2000-10-10   6.359165   6.543298   5.918561   6.096117   6.096117   \n",
      "7     2000-10-11   5.648937   5.916909   5.366162   5.576599   5.576599   \n",
      "8     2000-10-12   5.747580   5.984323   5.366162   5.379314   5.379314   \n",
      "9     2000-10-13   5.313552   5.892256   5.300400   5.879104   5.879104   \n",
      "10    2000-10-16   5.741004   6.451231   5.497685   6.273674   6.273674   \n",
      "11    2000-10-17   6.456155   6.497264   5.418771   5.550294   5.550294   \n",
      "12    2000-10-18   5.096538   5.958018   4.774305   5.616056   5.616056   \n",
      "13    2000-10-19   5.997475   6.339436   5.655513   6.017203   6.017203   \n",
      "14    2000-10-20   6.982250   6.997054   6.023779   6.109270   6.109270   \n",
      "15    2000-10-23   6.082965   6.444655   5.892256   6.267098   6.267098   \n",
      "16    2000-10-24   6.017203   6.023779   5.681818   5.688395   5.688395   \n",
      "17    2000-10-25   5.875810   6.036932   5.405619   5.688395   5.688395   \n",
      "18    2000-10-26   5.734427   5.846223   5.155724   5.523990   5.523990   \n",
      "19    2000-10-27   5.570023   5.819918   5.280671   5.405619   5.405619   \n",
      "20    2000-10-30   5.438499   5.510838   5.057081   5.182029   5.182029   \n",
      "21    2000-10-31   5.254366   5.523990   5.129419   5.418771   5.418771   \n",
      "22    2000-11-01   5.379314   5.997475   5.372738   5.683460   5.683460   \n",
      "23    2000-11-02   5.787037   6.102694   5.734427   6.043508   6.043508   \n",
      "24    2000-11-03   6.043508   6.201336   5.589752   5.767309   5.767309   \n",
      "25    2000-11-06   5.767309   6.010627   5.655513   5.721275   5.721275   \n",
      "26    2000-11-07   5.708123   5.997475   5.484533   5.964594   5.964594   \n",
      "27    2000-11-08   5.905408   6.096117   5.346433   5.431923   5.431923   \n",
      "28    2000-11-09   5.247790   5.326705   4.866372   5.122843   5.122843   \n",
      "29    2000-11-10   5.053788   5.339857   4.840067   4.846643   4.846643   \n",
      "...          ...        ...        ...        ...        ...        ...   \n",
      "3413  2014-04-30  21.864479  22.053871  21.414141  21.813972  21.813972   \n",
      "3414  2014-05-01  21.893940  22.201178  21.746634  21.755051  21.755051   \n",
      "3415  2014-05-02  21.771885  22.108585  21.759260  21.889730  21.889730   \n",
      "3416  2014-05-05  21.801348  22.032827  21.704546  21.885521  21.885521   \n",
      "3417  2014-05-06  21.914984  21.914984  21.418350  21.443604  21.443604   \n",
      "3418  2014-05-07  21.388889  21.481482  20.946970  21.283670  21.283670   \n",
      "3419  2014-05-08  21.308922  21.553030  21.052189  21.153198  21.153198   \n",
      "3420  2014-05-09  21.254210  21.409933  21.174242  21.271044  21.271044   \n",
      "3421  2014-05-12  21.430977  21.624578  21.342592  21.603535  21.603535   \n",
      "3422  2014-05-13  21.637205  21.788721  21.574074  21.708754  21.708754   \n",
      "3423  2014-05-14  21.797138  21.919191  21.712963  21.738216  21.738216   \n",
      "3424  2014-05-15  21.548822  21.662458  21.317341  21.616161  21.616161   \n",
      "3425  2014-05-16  21.738216  22.087542  21.456228  21.864479  21.864479   \n",
      "3426  2014-05-19  21.780304  22.079124  21.734007  22.024410  22.024410   \n",
      "3427  2014-05-20  21.965488  21.978115  21.734007  21.868687  21.868687   \n",
      "3428  2014-05-21  21.405724  21.835016  21.170034  21.835016  21.835016   \n",
      "3429  2014-05-22  21.881313  21.910774  21.544613  21.675085  21.675085   \n",
      "3430  2014-05-23  21.763468  21.902357  21.679293  21.893940  21.893940   \n",
      "3431  2014-05-27  22.015993  22.020203  21.759260  21.788721  21.788721   \n",
      "3432  2014-05-28  21.776094  21.797138  21.170034  21.207912  21.207912   \n",
      "3433  2014-05-29  21.313131  21.376263  21.026936  21.102694  21.102694   \n",
      "3434  2014-05-30  21.186869  21.376263  20.963804  21.351009  21.351009   \n",
      "3435  2014-06-02  21.329966  21.439394  21.182659  21.250000  21.250000   \n",
      "3436  2014-06-03  21.233166  21.430977  21.157408  21.220539  21.220539   \n",
      "3437  2014-06-04  21.207912  21.359428  21.010101  21.233166  21.233166   \n",
      "3438  2014-06-05  21.321548  21.321548  21.077440  21.287878  21.287878   \n",
      "3439  2014-06-06  21.414141  21.414141  20.833334  20.917509  20.917509   \n",
      "3440  2014-06-09  20.669191  20.930134  20.412458  20.867002  20.867002   \n",
      "3441  2014-06-10  20.475590  20.542929  20.273569  20.307240  20.307240   \n",
      "3442  2014-06-11  20.328283  20.580809  20.260942  20.551348  20.551348   \n",
      "\n",
      "         Volume  \n",
      "0      28444500  \n",
      "1      23618300  \n",
      "2      24790200  \n",
      "3      19289300  \n",
      "4      46986800  \n",
      "5      33696400  \n",
      "6      26503800  \n",
      "7      41966800  \n",
      "8      43401900  \n",
      "9      33410300  \n",
      "10     38079600  \n",
      "11     47735700  \n",
      "12     68081900  \n",
      "13     51587700  \n",
      "14    167615300  \n",
      "15     41304300  \n",
      "16     67107700  \n",
      "17     62174200  \n",
      "18     48813400  \n",
      "19     33108100  \n",
      "20     34090800  \n",
      "21     74857300  \n",
      "22     71615400  \n",
      "23     45110700  \n",
      "24     42949500  \n",
      "25     30243600  \n",
      "26     28946300  \n",
      "27     37833500  \n",
      "28     40820600  \n",
      "29     31767100  \n",
      "...         ...  \n",
      "3413   77257700  \n",
      "3414   30397300  \n",
      "3415   29012300  \n",
      "3416   25890300  \n",
      "3417   34788600  \n",
      "3418   47140000  \n",
      "3419   30990600  \n",
      "3420   33712100  \n",
      "3421   30338400  \n",
      "3422   30034000  \n",
      "3423   26478600  \n",
      "3424   29826400  \n",
      "3425   43925300  \n",
      "3426   19408300  \n",
      "3427   15055500  \n",
      "3428   41386800  \n",
      "3429   30112900  \n",
      "3430   16926100  \n",
      "3431   24552600  \n",
      "3432   44714100  \n",
      "3433   39823600  \n",
      "3434   36648100  \n",
      "3435   18226000  \n",
      "3436   20477000  \n",
      "3437   15731200  \n",
      "3438   28573300  \n",
      "3439   50884800  \n",
      "3440   52664200  \n",
      "3441   85512900  \n",
      "3442   36385300  \n",
      "\n",
      "[3443 rows x 7 columns]\n"
     ]
    }
   ],
   "source": [
    "from pandas import DataFrame\n",
    "import datetime\n",
    "\n",
    "sp500 = pd.read_csv ('C:/Users/Administrator/Desktop/EBAY_sp500.csv')\n",
    "print (sp500)"
   ]
  },
  {
   "cell_type": "code",
   "execution_count": 206,
   "metadata": {},
   "outputs": [
    {
     "name": "stdout",
     "output_type": "stream",
     "text": [
      "         Date      Open      High       Low     Close  Adj Close    Volume\n",
      "0  2000-10-02  7.365320  7.391624  6.681397  7.036511   7.036511  28444500\n",
      "1  2000-10-03  7.141730  7.273253  6.510417  6.523569   6.523569  23618300\n",
      "2  2000-10-04  6.457807  6.951021  6.214489  6.799768   6.799768  24790200\n",
      "3  2000-10-05  6.687973  7.089120  6.576179  6.720854   6.720854  19289300\n",
      "4  2000-10-06  6.727430  6.799768  5.800189  6.253946   6.253946  46986800\n"
     ]
    }
   ],
   "source": [
    "print (sp500.head())"
   ]
  },
  {
   "cell_type": "code",
   "execution_count": 209,
   "metadata": {},
   "outputs": [],
   "source": [
    "sp500.to_csv('E_sp500.csv')\n"
   ]
  },
  {
   "cell_type": "code",
   "execution_count": 212,
   "metadata": {},
   "outputs": [
    {
     "name": "stdout",
     "output_type": "stream",
     "text": [
      "            Unnamed: 0      Open      High       Low     Close  Adj Close  \\\n",
      "Date                                                                        \n",
      "2000-10-02           0  7.365320  7.391624  6.681397  7.036511   7.036511   \n",
      "2000-10-03           1  7.141730  7.273253  6.510417  6.523569   6.523569   \n",
      "2000-10-04           2  6.457807  6.951021  6.214489  6.799768   6.799768   \n",
      "2000-10-05           3  6.687973  7.089120  6.576179  6.720854   6.720854   \n",
      "2000-10-06           4  6.727430  6.799768  5.800189  6.253946   6.253946   \n",
      "\n",
      "              Volume  \n",
      "Date                  \n",
      "2000-10-02  28444500  \n",
      "2000-10-03  23618300  \n",
      "2000-10-04  24790200  \n",
      "2000-10-05  19289300  \n",
      "2000-10-06  46986800  \n"
     ]
    }
   ],
   "source": [
    "import pandas \n",
    "df = pd.read_csv('EBAY_sp500.csv', index_col= 'Date', parse_dates=True)\n",
    "print (df.head())"
   ]
  },
  {
   "cell_type": "code",
   "execution_count": 213,
   "metadata": {},
   "outputs": [
    {
     "name": "stdout",
     "output_type": "stream",
     "text": [
      "Date\n",
      "2000-10-02    7.365320\n",
      "2000-10-03    7.141730\n",
      "2000-10-04    6.457807\n",
      "2000-10-05    6.687973\n",
      "2000-10-06    6.727430\n",
      "Name: Open, dtype: float64\n"
     ]
    }
   ],
   "source": [
    "df2 = df['Open']\n",
    "print (df2.head())"
   ]
  },
  {
   "cell_type": "code",
   "execution_count": 214,
   "metadata": {},
   "outputs": [
    {
     "data": {
      "text/plain": [
       "<matplotlib.axes._subplots.AxesSubplot at 0x269e0412fd0>"
      ]
     },
     "execution_count": 214,
     "metadata": {},
     "output_type": "execute_result"
    },
    {
     "data": {
      "image/png": "[encoded data removed]",
      "text/plain": [
       "<matplotlib.figure.Figure at 0x269e042c4a8>"
      ]
     },
     "metadata": {},
     "output_type": "display_data"
    }
   ],
   "source": [
    "%matplotlib inline\n",
    "#import matplotlib.pyplot as plt\n",
    "df.plot()"
   ]
  },
  {
   "cell_type": "code",
   "execution_count": 217,
   "metadata": {},
   "outputs": [
    {
     "ename": "KeyError",
     "evalue": "\"['100MA'] not in index\"",
     "output_type": "error",
     "traceback": [
      "\u001b[1;31m---------------------------------------------------------------------------\u001b[0m",
      "\u001b[1;31mKeyError\u001b[0m                                  Traceback (most recent call last)",
      "\u001b[1;32m<ipython-input-217-8b6e627e1b0e>\u001b[0m in \u001b[0;36m<module>\u001b[1;34m()\u001b[0m\n\u001b[0;32m      1\u001b[0m \u001b[0mget_ipython\u001b[0m\u001b[1;33m(\u001b[0m\u001b[1;33m)\u001b[0m\u001b[1;33m.\u001b[0m\u001b[0mrun_line_magic\u001b[0m\u001b[1;33m(\u001b[0m\u001b[1;34m'matplotlib'\u001b[0m\u001b[1;33m,\u001b[0m \u001b[1;34m'inline'\u001b[0m\u001b[1;33m)\u001b[0m\u001b[1;33m\u001b[0m\u001b[0m\n\u001b[1;32m----> 2\u001b[1;33m \u001b[0mdf\u001b[0m\u001b[1;33m[\u001b[0m\u001b[1;33m[\u001b[0m\u001b[1;34m'Close'\u001b[0m\u001b[1;33m,\u001b[0m\u001b[1;34m'Open'\u001b[0m\u001b[1;33m,\u001b[0m \u001b[1;34m'100MA'\u001b[0m\u001b[1;33m]\u001b[0m\u001b[1;33m]\u001b[0m\u001b[1;33m.\u001b[0m\u001b[0mplot\u001b[0m\u001b[1;33m(\u001b[0m\u001b[1;33m)\u001b[0m\u001b[1;33m\u001b[0m\u001b[0m\n\u001b[0m\u001b[0;32m      3\u001b[0m \u001b[0mdf5\u001b[0m\u001b[1;33m.\u001b[0m\u001b[0mplot\u001b[0m\u001b[1;33m(\u001b[0m\u001b[1;33m)\u001b[0m\u001b[1;33m\u001b[0m\u001b[0m\n",
      "\u001b[1;32mC:\\ProgramData\\Anaconda3\\lib\\site-packages\\pandas\\core\\frame.py\u001b[0m in \u001b[0;36m__getitem__\u001b[1;34m(self, key)\u001b[0m\n\u001b[0;32m   2131\u001b[0m         \u001b[1;32mif\u001b[0m \u001b[0misinstance\u001b[0m\u001b[1;33m(\u001b[0m\u001b[0mkey\u001b[0m\u001b[1;33m,\u001b[0m \u001b[1;33m(\u001b[0m\u001b[0mSeries\u001b[0m\u001b[1;33m,\u001b[0m \u001b[0mnp\u001b[0m\u001b[1;33m.\u001b[0m\u001b[0mndarray\u001b[0m\u001b[1;33m,\u001b[0m \u001b[0mIndex\u001b[0m\u001b[1;33m,\u001b[0m \u001b[0mlist\u001b[0m\u001b[1;33m)\u001b[0m\u001b[1;33m)\u001b[0m\u001b[1;33m:\u001b[0m\u001b[1;33m\u001b[0m\u001b[0m\n\u001b[0;32m   2132\u001b[0m             \u001b[1;31m# either boolean or fancy integer index\u001b[0m\u001b[1;33m\u001b[0m\u001b[1;33m\u001b[0m\u001b[0m\n\u001b[1;32m-> 2133\u001b[1;33m             \u001b[1;32mreturn\u001b[0m \u001b[0mself\u001b[0m\u001b[1;33m.\u001b[0m\u001b[0m_getitem_array\u001b[0m\u001b[1;33m(\u001b[0m\u001b[0mkey\u001b[0m\u001b[1;33m)\u001b[0m\u001b[1;33m\u001b[0m\u001b[0m\n\u001b[0m\u001b[0;32m   2134\u001b[0m         \u001b[1;32melif\u001b[0m \u001b[0misinstance\u001b[0m\u001b[1;33m(\u001b[0m\u001b[0mkey\u001b[0m\u001b[1;33m,\u001b[0m \u001b[0mDataFrame\u001b[0m\u001b[1;33m)\u001b[0m\u001b[1;33m:\u001b[0m\u001b[1;33m\u001b[0m\u001b[0m\n\u001b[0;32m   2135\u001b[0m             \u001b[1;32mreturn\u001b[0m \u001b[0mself\u001b[0m\u001b[1;33m.\u001b[0m\u001b[0m_getitem_frame\u001b[0m\u001b[1;33m(\u001b[0m\u001b[0mkey\u001b[0m\u001b[1;33m)\u001b[0m\u001b[1;33m\u001b[0m\u001b[0m\n",
      "\u001b[1;32mC:\\ProgramData\\Anaconda3\\lib\\site-packages\\pandas\\core\\frame.py\u001b[0m in \u001b[0;36m_getitem_array\u001b[1;34m(self, key)\u001b[0m\n\u001b[0;32m   2175\u001b[0m             \u001b[1;32mreturn\u001b[0m \u001b[0mself\u001b[0m\u001b[1;33m.\u001b[0m\u001b[0m_take\u001b[0m\u001b[1;33m(\u001b[0m\u001b[0mindexer\u001b[0m\u001b[1;33m,\u001b[0m \u001b[0maxis\u001b[0m\u001b[1;33m=\u001b[0m\u001b[1;36m0\u001b[0m\u001b[1;33m,\u001b[0m \u001b[0mconvert\u001b[0m\u001b[1;33m=\u001b[0m\u001b[1;32mFalse\u001b[0m\u001b[1;33m)\u001b[0m\u001b[1;33m\u001b[0m\u001b[0m\n\u001b[0;32m   2176\u001b[0m         \u001b[1;32melse\u001b[0m\u001b[1;33m:\u001b[0m\u001b[1;33m\u001b[0m\u001b[0m\n\u001b[1;32m-> 2177\u001b[1;33m             \u001b[0mindexer\u001b[0m \u001b[1;33m=\u001b[0m \u001b[0mself\u001b[0m\u001b[1;33m.\u001b[0m\u001b[0mloc\u001b[0m\u001b[1;33m.\u001b[0m\u001b[0m_convert_to_indexer\u001b[0m\u001b[1;33m(\u001b[0m\u001b[0mkey\u001b[0m\u001b[1;33m,\u001b[0m \u001b[0maxis\u001b[0m\u001b[1;33m=\u001b[0m\u001b[1;36m1\u001b[0m\u001b[1;33m)\u001b[0m\u001b[1;33m\u001b[0m\u001b[0m\n\u001b[0m\u001b[0;32m   2178\u001b[0m             \u001b[1;32mreturn\u001b[0m \u001b[0mself\u001b[0m\u001b[1;33m.\u001b[0m\u001b[0m_take\u001b[0m\u001b[1;33m(\u001b[0m\u001b[0mindexer\u001b[0m\u001b[1;33m,\u001b[0m \u001b[0maxis\u001b[0m\u001b[1;33m=\u001b[0m\u001b[1;36m1\u001b[0m\u001b[1;33m,\u001b[0m \u001b[0mconvert\u001b[0m\u001b[1;33m=\u001b[0m\u001b[1;32mTrue\u001b[0m\u001b[1;33m)\u001b[0m\u001b[1;33m\u001b[0m\u001b[0m\n\u001b[0;32m   2179\u001b[0m \u001b[1;33m\u001b[0m\u001b[0m\n",
      "\u001b[1;32mC:\\ProgramData\\Anaconda3\\lib\\site-packages\\pandas\\core\\indexing.py\u001b[0m in \u001b[0;36m_convert_to_indexer\u001b[1;34m(self, obj, axis, is_setter)\u001b[0m\n\u001b[0;32m   1267\u001b[0m                 \u001b[1;32mif\u001b[0m \u001b[0mmask\u001b[0m\u001b[1;33m.\u001b[0m\u001b[0many\u001b[0m\u001b[1;33m(\u001b[0m\u001b[1;33m)\u001b[0m\u001b[1;33m:\u001b[0m\u001b[1;33m\u001b[0m\u001b[0m\n\u001b[0;32m   1268\u001b[0m                     raise KeyError('{mask} not in index'\n\u001b[1;32m-> 1269\u001b[1;33m                                    .format(mask=objarr[mask]))\n\u001b[0m\u001b[0;32m   1270\u001b[0m \u001b[1;33m\u001b[0m\u001b[0m\n\u001b[0;32m   1271\u001b[0m                 \u001b[1;32mreturn\u001b[0m \u001b[0m_values_from_object\u001b[0m\u001b[1;33m(\u001b[0m\u001b[0mindexer\u001b[0m\u001b[1;33m)\u001b[0m\u001b[1;33m\u001b[0m\u001b[0m\n",
      "\u001b[1;31mKeyError\u001b[0m: \"['100MA'] not in index\""
     ]
    }
   ],
   "source": [
    "%matplotlib inline\n",
    "df[['Close','Open', '100MA']].plot()\n",
    "df5.plot()"
   ]
  }
 ],
 "metadata": {
  "kernelspec": {
   "display_name": "Python 3",
   "language": "python",
   "name": "python3"
  },
  "language_info": {
   "codemirror_mode": {
    "name": "ipython",
    "version": 3
   },
   "file_extension": ".py",
   "mimetype": "text/x-python",
   "name": "python",
   "nbconvert_exporter": "python",
   "pygments_lexer": "ipython3",
   "version": "3.6.4"
  }
 },
 "nbformat": 4,
 "nbformat_minor": 2
}
